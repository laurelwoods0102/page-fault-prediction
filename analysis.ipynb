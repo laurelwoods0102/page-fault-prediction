{
 "cells": [
  {
   "cell_type": "markdown",
   "metadata": {},
   "source": [
    "## Import SEG_SGEMM Data as int64"
   ]
  },
  {
   "cell_type": "code",
   "execution_count": 2,
   "metadata": {},
   "outputs": [
    {
     "output_type": "execute_result",
     "data": {
      "text/plain": "                SEG\n0        3196231680\n1       93292771632\n2       93293300344\n3       93293373376\n4       93292057424\n...             ...\n237191  92622695528\n237192  92622695520\n237193  92658792872\n237194  92658792864\n237195  92654987192\n\n[237196 rows x 1 columns]",
      "text/html": "<div>\n<style scoped>\n    .dataframe tbody tr th:only-of-type {\n        vertical-align: middle;\n    }\n\n    .dataframe tbody tr th {\n        vertical-align: top;\n    }\n\n    .dataframe thead th {\n        text-align: right;\n    }\n</style>\n<table border=\"1\" class=\"dataframe\">\n  <thead>\n    <tr style=\"text-align: right;\">\n      <th></th>\n      <th>SEG</th>\n    </tr>\n  </thead>\n  <tbody>\n    <tr>\n      <th>0</th>\n      <td>3196231680</td>\n    </tr>\n    <tr>\n      <th>1</th>\n      <td>93292771632</td>\n    </tr>\n    <tr>\n      <th>2</th>\n      <td>93293300344</td>\n    </tr>\n    <tr>\n      <th>3</th>\n      <td>93293373376</td>\n    </tr>\n    <tr>\n      <th>4</th>\n      <td>93292057424</td>\n    </tr>\n    <tr>\n      <th>...</th>\n      <td>...</td>\n    </tr>\n    <tr>\n      <th>237191</th>\n      <td>92622695528</td>\n    </tr>\n    <tr>\n      <th>237192</th>\n      <td>92622695520</td>\n    </tr>\n    <tr>\n      <th>237193</th>\n      <td>92658792872</td>\n    </tr>\n    <tr>\n      <th>237194</th>\n      <td>92658792864</td>\n    </tr>\n    <tr>\n      <th>237195</th>\n      <td>92654987192</td>\n    </tr>\n  </tbody>\n</table>\n<p>237196 rows × 1 columns</p>\n</div>"
     },
     "metadata": {},
     "execution_count": 2
    }
   ],
   "source": [
    "import numpy as np\n",
    "import pandas as pd\n",
    "import matplotlib.pyplot as plt\n",
    "\n",
    "data_as_int64 = np.genfromtxt(\"./로그 데이터/SEG_SGEMM_result.txt\", delimiter=\"\\n\", dtype=np.int64).reshape(-1, 1)\n",
    "data_as_int64 = pd.DataFrame(data=data_as_int64, columns=[\"SEG\"])\n",
    "data_as_int64"
   ]
  },
  {
   "cell_type": "markdown",
   "metadata": {},
   "source": [
    "## Import SEG_SGEMM Data as String (object)  \n",
    "Since this is not regression problem, regard each of data as string, not numerics"
   ]
  },
  {
   "cell_type": "code",
   "execution_count": 3,
   "metadata": {},
   "outputs": [
    {
     "output_type": "execute_result",
     "data": {
      "text/plain": "(               SEG\n 0      93292771632\n 1      93293300344\n 2      93293373376\n 3      93292057424\n 4      93292217584\n ...            ...\n 19995  93955937600\n 19996  93955937600\n 19997  93955937600\n 19998  93955937600\n 19999  93955937600\n \n [20000 rows x 1 columns],\n                 SEG\n 20000   93955937600\n 20001   93955937600\n 20002   93955937600\n 20003   93955937600\n 20004   93955937600\n ...             ...\n 237189  92734070262\n 237190  92622695528\n 237191  92622695520\n 237192  92658792872\n 237193  92658792864\n \n [217194 rows x 1 columns])"
     },
     "metadata": {},
     "execution_count": 3
    }
   ],
   "source": [
    "original = pd.read_csv(\"./로그 데이터/SEG_SGEMM_result.txt\")\n",
    "original.columns = [\"SEG\"]\n",
    "split_index = 20000\n",
    "data = original.copy()\n",
    "train_set = data[:split_index]\n",
    "test_set = data[split_index:]\n",
    "test_set.drop(test_set.tail(1).index, inplace=True)\n",
    "train_set, test_set"
   ]
  },
  {
   "cell_type": "markdown",
   "metadata": {},
   "source": [
    "## Create Label and Split into Train/Test using split_index "
   ]
  },
  {
   "cell_type": "code",
   "execution_count": 4,
   "metadata": {},
   "outputs": [
    {
     "output_type": "execute_result",
     "data": {
      "text/plain": "(               SEG\n 0      93293300344\n 1      93293373376\n 2      93292057424\n 3      93292217584\n 4      93292766680\n ...            ...\n 19995  93955937600\n 19996  93955937600\n 19997  93955937600\n 19998  93955937600\n 19999  93955937600\n \n [20000 rows x 1 columns],\n                 SEG\n 20000   93955937600\n 20001   93955937600\n 20002   93955937600\n 20003   93955937600\n 20004   93955937600\n ...             ...\n 237189  92622695528\n 237190  92622695520\n 237191  92658792872\n 237192  92658792864\n 237193  92654987192\n \n [217194 rows x 1 columns])"
     },
     "metadata": {},
     "execution_count": 4
    }
   ],
   "source": [
    "label = original.copy()\n",
    "label.drop(original.head(1).index, inplace=True)\n",
    "label = label.reset_index(drop=True)\n",
    "train_label = label[:split_index]\n",
    "test_label = label[split_index:]\n",
    "train_label, test_label"
   ]
  },
  {
   "cell_type": "markdown",
   "metadata": {},
   "source": [
    "## Histogram of SEG using value_counts()\n",
    "Since there are too many categories, unable to draw Histogram."
   ]
  },
  {
   "cell_type": "code",
   "execution_count": 5,
   "metadata": {
    "tags": []
   },
   "outputs": [
    {
     "output_type": "execute_result",
     "data": {
      "text/plain": "             SEG_counts\n92706114236        6686\n93615631856        3739\n92901442004        2391\n92916149332        1469\n93568880464        1163\n...                 ...\n93301663686           1\n93094540080           1\n92706166040           1\n93262027136           1\n93291914576           1\n\n[988 rows x 1 columns]",
      "text/html": "<div>\n<style scoped>\n    .dataframe tbody tr th:only-of-type {\n        vertical-align: middle;\n    }\n\n    .dataframe tbody tr th {\n        vertical-align: top;\n    }\n\n    .dataframe thead th {\n        text-align: right;\n    }\n</style>\n<table border=\"1\" class=\"dataframe\">\n  <thead>\n    <tr style=\"text-align: right;\">\n      <th></th>\n      <th>SEG_counts</th>\n    </tr>\n  </thead>\n  <tbody>\n    <tr>\n      <th>92706114236</th>\n      <td>6686</td>\n    </tr>\n    <tr>\n      <th>93615631856</th>\n      <td>3739</td>\n    </tr>\n    <tr>\n      <th>92901442004</th>\n      <td>2391</td>\n    </tr>\n    <tr>\n      <th>92916149332</th>\n      <td>1469</td>\n    </tr>\n    <tr>\n      <th>93568880464</th>\n      <td>1163</td>\n    </tr>\n    <tr>\n      <th>...</th>\n      <td>...</td>\n    </tr>\n    <tr>\n      <th>93301663686</th>\n      <td>1</td>\n    </tr>\n    <tr>\n      <th>93094540080</th>\n      <td>1</td>\n    </tr>\n    <tr>\n      <th>92706166040</th>\n      <td>1</td>\n    </tr>\n    <tr>\n      <th>93262027136</th>\n      <td>1</td>\n    </tr>\n    <tr>\n      <th>93291914576</th>\n      <td>1</td>\n    </tr>\n  </tbody>\n</table>\n<p>988 rows × 1 columns</p>\n</div>"
     },
     "metadata": {},
     "execution_count": 5
    }
   ],
   "source": [
    "data_counts = train_label[\"SEG\"].value_counts().to_frame(\"SEG_counts\")\n",
    "data_counts"
   ]
  },
  {
   "cell_type": "markdown",
   "metadata": {},
   "source": [
    "## Number of counts over threshold  \n",
    "True if number of count is greater than threshold_num_of_label, False otherwise.  \n",
    "Interpretation : There are only 20 Categories that contain more than 100 data.  \n",
    "Use threshold_num_of_label as Hyper-Parameter"
   ]
  },
  {
   "cell_type": "code",
   "execution_count": 6,
   "metadata": {},
   "outputs": [
    {
     "output_type": "execute_result",
     "data": {
      "text/plain": "False    968\nTrue      20\nName: SEG_counts, dtype: int64"
     },
     "metadata": {},
     "execution_count": 6
    }
   ],
   "source": [
    "threshold_num_of_label = 100\n",
    "data_counts_over_threshold = (data_counts > threshold_num_of_label)[\"SEG_counts\"]\n",
    "data_counts_over_threshold.value_counts()"
   ]
  },
  {
   "cell_type": "markdown",
   "metadata": {},
   "source": [
    "## Comparision of number of counts over threshold via iterating with mod 5."
   ]
  },
  {
   "cell_type": "code",
   "execution_count": 7,
   "metadata": {
    "tags": []
   },
   "outputs": [
    {
     "output_type": "stream",
     "name": "stdout",
     "text": "False    940\nTrue      48\nName: SEG_counts, dtype: int64\nFalse    958\nTrue      30\nName: SEG_counts, dtype: int64\nFalse    960\nTrue      28\nName: SEG_counts, dtype: int64\nFalse    960\nTrue      28\nName: SEG_counts, dtype: int64\nFalse    961\nTrue      27\nName: SEG_counts, dtype: int64\nFalse    962\nTrue      26\nName: SEG_counts, dtype: int64\nFalse    962\nTrue      26\nName: SEG_counts, dtype: int64\nFalse    962\nTrue      26\nName: SEG_counts, dtype: int64\nFalse    962\nTrue      26\nName: SEG_counts, dtype: int64\nFalse    962\nTrue      26\nName: SEG_counts, dtype: int64\nFalse    962\nTrue      26\nName: SEG_counts, dtype: int64\nFalse    962\nTrue      26\nName: SEG_counts, dtype: int64\nFalse    963\nTrue      25\nName: SEG_counts, dtype: int64\nFalse    965\nTrue      23\nName: SEG_counts, dtype: int64\nFalse    966\nTrue      22\nName: SEG_counts, dtype: int64\nFalse    966\nTrue      22\nName: SEG_counts, dtype: int64\nFalse    967\nTrue      21\nName: SEG_counts, dtype: int64\nFalse    967\nTrue      21\nName: SEG_counts, dtype: int64\nFalse    967\nTrue      21\nName: SEG_counts, dtype: int64\n"
    }
   ],
   "source": [
    "for i in range(1, 20):\n",
    "    print((data_counts > i*5)[\"SEG_counts\"].value_counts())"
   ]
  },
  {
   "cell_type": "markdown",
   "metadata": {},
   "source": [
    "## Categories whose number of counts are over the threshold."
   ]
  },
  {
   "cell_type": "code",
   "execution_count": 8,
   "metadata": {},
   "outputs": [
    {
     "output_type": "execute_result",
     "data": {
      "text/plain": "Index(['92706114236', '93615631856', '92901442004', '92916149332',\n       '93568880464', '93926004488', '93955937600', '92705899400',\n       '93096589320', '93221812784', '93150958560', '92843445448',\n       '93540914080', '93670230464', '93191793424', '79267321704',\n       '93089351248', '93226732624', '93191715024', '93209484392'],\n      dtype='object')"
     },
     "metadata": {},
     "execution_count": 8
    }
   ],
   "source": [
    "labels_over_threshold = data_counts_over_threshold.index[data_counts_over_threshold == True]\n",
    "labels_over_threshold"
   ]
  },
  {
   "cell_type": "markdown",
   "metadata": {},
   "source": [
    "## Row indexes of data to be considered as \"others\""
   ]
  },
  {
   "cell_type": "code",
   "execution_count": 9,
   "metadata": {},
   "outputs": [
    {
     "output_type": "execute_result",
     "data": {
      "text/plain": "Int64Index([    0,     1,     2,     3,     4,     5,     6,     7,     8,\n                9,\n            ...\n            17163, 17164, 17165, 17166, 17167, 17168, 17169, 17299, 17300,\n            17301],\n           dtype='int64', length=2063)"
     },
     "metadata": {},
     "execution_count": 9
    }
   ],
   "source": [
    "train_label_mapped = train_label[\"SEG\"].isin(labels_over_threshold)\n",
    "train_label_mapped_index = train_label_mapped.index[train_label_mapped == False]\n",
    "train_label_mapped_index"
   ]
  },
  {
   "cell_type": "markdown",
   "metadata": {},
   "source": [
    "## Represent data as \"-1\" (others)"
   ]
  },
  {
   "cell_type": "code",
   "execution_count": 10,
   "metadata": {},
   "outputs": [
    {
     "output_type": "execute_result",
     "data": {
      "text/plain": "92706114236    6686\n93615631856    3739\n92901442004    2391\n-1             2063\n92916149332    1469\n93568880464    1163\n93926004488     332\n93955937600     309\n92705899400     205\n93096589320     174\n93221812784     172\n93150958560     164\n92843445448     137\n93540914080     134\n93670230464     131\n93191793424     130\n79267321704     129\n93089351248     127\n93226732624     119\n93191715024     116\n93209484392     110\nName: SEG, dtype: int64"
     },
     "metadata": {},
     "execution_count": 10
    }
   ],
   "source": [
    "train_label.loc[train_label_mapped_index] = \"-1\"\n",
    "train_label[\"SEG\"].value_counts()"
   ]
  },
  {
   "cell_type": "code",
   "execution_count": 11,
   "metadata": {},
   "outputs": [
    {
     "output_type": "execute_result",
     "data": {
      "text/plain": "               SEG\n0               -1\n1               -1\n2               -1\n3               -1\n4               -1\n...            ...\n19995  93955937600\n19996  93955937600\n19997  93955937600\n19998  93955937600\n19999  93955937600\n\n[20000 rows x 1 columns]",
      "text/html": "<div>\n<style scoped>\n    .dataframe tbody tr th:only-of-type {\n        vertical-align: middle;\n    }\n\n    .dataframe tbody tr th {\n        vertical-align: top;\n    }\n\n    .dataframe thead th {\n        text-align: right;\n    }\n</style>\n<table border=\"1\" class=\"dataframe\">\n  <thead>\n    <tr style=\"text-align: right;\">\n      <th></th>\n      <th>SEG</th>\n    </tr>\n  </thead>\n  <tbody>\n    <tr>\n      <th>0</th>\n      <td>-1</td>\n    </tr>\n    <tr>\n      <th>1</th>\n      <td>-1</td>\n    </tr>\n    <tr>\n      <th>2</th>\n      <td>-1</td>\n    </tr>\n    <tr>\n      <th>3</th>\n      <td>-1</td>\n    </tr>\n    <tr>\n      <th>4</th>\n      <td>-1</td>\n    </tr>\n    <tr>\n      <th>...</th>\n      <td>...</td>\n    </tr>\n    <tr>\n      <th>19995</th>\n      <td>93955937600</td>\n    </tr>\n    <tr>\n      <th>19996</th>\n      <td>93955937600</td>\n    </tr>\n    <tr>\n      <th>19997</th>\n      <td>93955937600</td>\n    </tr>\n    <tr>\n      <th>19998</th>\n      <td>93955937600</td>\n    </tr>\n    <tr>\n      <th>19999</th>\n      <td>93955937600</td>\n    </tr>\n  </tbody>\n</table>\n<p>20000 rows × 1 columns</p>\n</div>"
     },
     "metadata": {},
     "execution_count": 11
    }
   ],
   "source": [
    "train_label"
   ]
  },
  {
   "cell_type": "code",
   "execution_count": 12,
   "metadata": {},
   "outputs": [
    {
     "output_type": "execute_result",
     "data": {
      "text/plain": "<matplotlib.axes._subplots.AxesSubplot at 0x1ed1cde6bc8>"
     },
     "metadata": {},
     "execution_count": 12
    },
    {
     "output_type": "display_data",
     "data": {
      "text/plain": "<Figure size 432x288 with 1 Axes>",
      "image/svg+xml": "<?xml version=\"1.0\" encoding=\"utf-8\" standalone=\"no\"?>\r\n<!DOCTYPE svg PUBLIC \"-//W3C//DTD SVG 1.1//EN\"\r\n  \"http://www.w3.org/Graphics/SVG/1.1/DTD/svg11.dtd\">\r\n<!-- Created with matplotlib (https://matplotlib.org/) -->\r\n<svg height=\"311.997966pt\" version=\"1.1\" viewBox=\"0 0 381.65 311.997966\" width=\"381.65pt\" xmlns=\"http://www.w3.org/2000/svg\" xmlns:xlink=\"http://www.w3.org/1999/xlink\">\r\n <defs>\r\n  <style type=\"text/css\">\r\n*{stroke-linecap:butt;stroke-linejoin:round;}\r\n  </style>\r\n </defs>\r\n <g id=\"figure_1\">\r\n  <g id=\"patch_1\">\r\n   <path d=\"M -0 311.997966 \r\nL 381.65 311.997966 \r\nL 381.65 0 \r\nL -0 0 \r\nz\r\n\" style=\"fill:none;\"/>\r\n  </g>\r\n  <g id=\"axes_1\">\r\n   <g id=\"patch_2\">\r\n    <path d=\"M 39.65 227.810466 \r\nL 374.45 227.810466 \r\nL 374.45 10.370466 \r\nL 39.65 10.370466 \r\nz\r\n\" style=\"fill:#ffffff;\"/>\r\n   </g>\r\n   <g id=\"patch_3\">\r\n    <path clip-path=\"url(#pe275772fc9)\" d=\"M 43.635714 227.810466 \r\nL 51.607143 227.810466 \r\nL 51.607143 20.724752 \r\nL 43.635714 20.724752 \r\nz\r\n\" style=\"fill:#1f77b4;\"/>\r\n   </g>\r\n   <g id=\"patch_4\">\r\n    <path clip-path=\"url(#pe275772fc9)\" d=\"M 59.578571 227.810466 \r\nL 67.55 227.810466 \r\nL 67.55 112.002287 \r\nL 59.578571 112.002287 \r\nz\r\n\" style=\"fill:#1f77b4;\"/>\r\n   </g>\r\n   <g id=\"patch_5\">\r\n    <path clip-path=\"url(#pe275772fc9)\" d=\"M 75.521429 227.810466 \r\nL 83.492857 227.810466 \r\nL 83.492857 153.753939 \r\nL 75.521429 153.753939 \r\nz\r\n\" style=\"fill:#1f77b4;\"/>\r\n   </g>\r\n   <g id=\"patch_6\">\r\n    <path clip-path=\"url(#pe275772fc9)\" d=\"M 91.464286 227.810466 \r\nL 99.435714 227.810466 \r\nL 99.435714 163.913094 \r\nL 91.464286 163.913094 \r\nz\r\n\" style=\"fill:#1f77b4;\"/>\r\n   </g>\r\n   <g id=\"patch_7\">\r\n    <path clip-path=\"url(#pe275772fc9)\" d=\"M 107.407143 227.810466 \r\nL 115.378571 227.810466 \r\nL 115.378571 182.311077 \r\nL 107.407143 182.311077 \r\nz\r\n\" style=\"fill:#1f77b4;\"/>\r\n   </g>\r\n   <g id=\"patch_8\">\r\n    <path clip-path=\"url(#pe275772fc9)\" d=\"M 123.35 227.810466 \r\nL 131.321429 227.810466 \r\nL 131.321429 191.788826 \r\nL 123.35 191.788826 \r\nz\r\n\" style=\"fill:#1f77b4;\"/>\r\n   </g>\r\n   <g id=\"patch_9\">\r\n    <path clip-path=\"url(#pe275772fc9)\" d=\"M 139.292857 227.810466 \r\nL 147.264286 227.810466 \r\nL 147.264286 217.527418 \r\nL 139.292857 217.527418 \r\nz\r\n\" style=\"fill:#1f77b4;\"/>\r\n   </g>\r\n   <g id=\"patch_10\">\r\n    <path clip-path=\"url(#pe275772fc9)\" d=\"M 155.235714 227.810466 \r\nL 163.207143 227.810466 \r\nL 163.207143 218.239798 \r\nL 155.235714 218.239798 \r\nz\r\n\" style=\"fill:#1f77b4;\"/>\r\n   </g>\r\n   <g id=\"patch_11\">\r\n    <path clip-path=\"url(#pe275772fc9)\" d=\"M 171.178571 227.810466 \r\nL 179.15 227.810466 \r\nL 179.15 221.460994 \r\nL 171.178571 221.460994 \r\nz\r\n\" style=\"fill:#1f77b4;\"/>\r\n   </g>\r\n   <g id=\"patch_12\">\r\n    <path clip-path=\"url(#pe275772fc9)\" d=\"M 187.121429 227.810466 \r\nL 195.092857 227.810466 \r\nL 195.092857 222.421158 \r\nL 187.121429 222.421158 \r\nz\r\n\" style=\"fill:#1f77b4;\"/>\r\n   </g>\r\n   <g id=\"patch_13\">\r\n    <path clip-path=\"url(#pe275772fc9)\" d=\"M 203.064286 227.810466 \r\nL 211.035714 227.810466 \r\nL 211.035714 222.483104 \r\nL 203.064286 222.483104 \r\nz\r\n\" style=\"fill:#1f77b4;\"/>\r\n   </g>\r\n   <g id=\"patch_14\">\r\n    <path clip-path=\"url(#pe275772fc9)\" d=\"M 219.007143 227.810466 \r\nL 226.978571 227.810466 \r\nL 226.978571 222.730888 \r\nL 219.007143 222.730888 \r\nz\r\n\" style=\"fill:#1f77b4;\"/>\r\n   </g>\r\n   <g id=\"patch_15\">\r\n    <path clip-path=\"url(#pe275772fc9)\" d=\"M 234.95 227.810466 \r\nL 242.921429 227.810466 \r\nL 242.921429 223.56716 \r\nL 234.95 223.56716 \r\nz\r\n\" style=\"fill:#1f77b4;\"/>\r\n   </g>\r\n   <g id=\"patch_16\">\r\n    <path clip-path=\"url(#pe275772fc9)\" d=\"M 250.892857 227.810466 \r\nL 258.864286 227.810466 \r\nL 258.864286 223.660079 \r\nL 250.892857 223.660079 \r\nz\r\n\" style=\"fill:#1f77b4;\"/>\r\n   </g>\r\n   <g id=\"patch_17\">\r\n    <path clip-path=\"url(#pe275772fc9)\" d=\"M 266.835714 227.810466 \r\nL 274.807143 227.810466 \r\nL 274.807143 223.752999 \r\nL 266.835714 223.752999 \r\nz\r\n\" style=\"fill:#1f77b4;\"/>\r\n   </g>\r\n   <g id=\"patch_18\">\r\n    <path clip-path=\"url(#pe275772fc9)\" d=\"M 282.778571 227.810466 \r\nL 290.75 227.810466 \r\nL 290.75 223.783972 \r\nL 282.778571 223.783972 \r\nz\r\n\" style=\"fill:#1f77b4;\"/>\r\n   </g>\r\n   <g id=\"patch_19\">\r\n    <path clip-path=\"url(#pe275772fc9)\" d=\"M 298.721429 227.810466 \r\nL 306.692857 227.810466 \r\nL 306.692857 223.814945 \r\nL 298.721429 223.814945 \r\nz\r\n\" style=\"fill:#1f77b4;\"/>\r\n   </g>\r\n   <g id=\"patch_20\">\r\n    <path clip-path=\"url(#pe275772fc9)\" d=\"M 314.664286 227.810466 \r\nL 322.635714 227.810466 \r\nL 322.635714 223.876891 \r\nL 314.664286 223.876891 \r\nz\r\n\" style=\"fill:#1f77b4;\"/>\r\n   </g>\r\n   <g id=\"patch_21\">\r\n    <path clip-path=\"url(#pe275772fc9)\" d=\"M 330.607143 227.810466 \r\nL 338.578571 227.810466 \r\nL 338.578571 224.124675 \r\nL 330.607143 224.124675 \r\nz\r\n\" style=\"fill:#1f77b4;\"/>\r\n   </g>\r\n   <g id=\"patch_22\">\r\n    <path clip-path=\"url(#pe275772fc9)\" d=\"M 346.55 227.810466 \r\nL 354.521429 227.810466 \r\nL 354.521429 224.217594 \r\nL 346.55 224.217594 \r\nz\r\n\" style=\"fill:#1f77b4;\"/>\r\n   </g>\r\n   <g id=\"patch_23\">\r\n    <path clip-path=\"url(#pe275772fc9)\" d=\"M 362.492857 227.810466 \r\nL 370.464286 227.810466 \r\nL 370.464286 224.403432 \r\nL 362.492857 224.403432 \r\nz\r\n\" style=\"fill:#1f77b4;\"/>\r\n   </g>\r\n   <g id=\"matplotlib.axis_1\">\r\n    <g id=\"xtick_1\">\r\n     <g id=\"line2d_1\">\r\n      <defs>\r\n       <path d=\"M 0 0 \r\nL 0 3.5 \r\n\" id=\"m9937e726aa\" style=\"stroke:#000000;stroke-width:0.8;\"/>\r\n      </defs>\r\n      <g>\r\n       <use style=\"stroke:#000000;stroke-width:0.8;\" x=\"47.621429\" xlink:href=\"#m9937e726aa\" y=\"227.810466\"/>\r\n      </g>\r\n     </g>\r\n     <g id=\"text_1\">\r\n      <!-- 92706114236 -->\r\n      <defs>\r\n       <path d=\"M 10.984375 1.515625 \r\nL 10.984375 10.5 \r\nQ 14.703125 8.734375 18.5 7.8125 \r\nQ 22.3125 6.890625 25.984375 6.890625 \r\nQ 35.75 6.890625 40.890625 13.453125 \r\nQ 46.046875 20.015625 46.78125 33.40625 \r\nQ 43.953125 29.203125 39.59375 26.953125 \r\nQ 35.25 24.703125 29.984375 24.703125 \r\nQ 19.046875 24.703125 12.671875 31.3125 \r\nQ 6.296875 37.9375 6.296875 49.421875 \r\nQ 6.296875 60.640625 12.9375 67.421875 \r\nQ 19.578125 74.21875 30.609375 74.21875 \r\nQ 43.265625 74.21875 49.921875 64.515625 \r\nQ 56.59375 54.828125 56.59375 36.375 \r\nQ 56.59375 19.140625 48.40625 8.859375 \r\nQ 40.234375 -1.421875 26.421875 -1.421875 \r\nQ 22.703125 -1.421875 18.890625 -0.6875 \r\nQ 15.09375 0.046875 10.984375 1.515625 \r\nz\r\nM 30.609375 32.421875 \r\nQ 37.25 32.421875 41.125 36.953125 \r\nQ 45.015625 41.5 45.015625 49.421875 \r\nQ 45.015625 57.28125 41.125 61.84375 \r\nQ 37.25 66.40625 30.609375 66.40625 \r\nQ 23.96875 66.40625 20.09375 61.84375 \r\nQ 16.21875 57.28125 16.21875 49.421875 \r\nQ 16.21875 41.5 20.09375 36.953125 \r\nQ 23.96875 32.421875 30.609375 32.421875 \r\nz\r\n\" id=\"DejaVuSans-57\"/>\r\n       <path d=\"M 19.1875 8.296875 \r\nL 53.609375 8.296875 \r\nL 53.609375 0 \r\nL 7.328125 0 \r\nL 7.328125 8.296875 \r\nQ 12.9375 14.109375 22.625 23.890625 \r\nQ 32.328125 33.6875 34.8125 36.53125 \r\nQ 39.546875 41.84375 41.421875 45.53125 \r\nQ 43.3125 49.21875 43.3125 52.78125 \r\nQ 43.3125 58.59375 39.234375 62.25 \r\nQ 35.15625 65.921875 28.609375 65.921875 \r\nQ 23.96875 65.921875 18.8125 64.3125 \r\nQ 13.671875 62.703125 7.8125 59.421875 \r\nL 7.8125 69.390625 \r\nQ 13.765625 71.78125 18.9375 73 \r\nQ 24.125 74.21875 28.421875 74.21875 \r\nQ 39.75 74.21875 46.484375 68.546875 \r\nQ 53.21875 62.890625 53.21875 53.421875 \r\nQ 53.21875 48.921875 51.53125 44.890625 \r\nQ 49.859375 40.875 45.40625 35.40625 \r\nQ 44.1875 33.984375 37.640625 27.21875 \r\nQ 31.109375 20.453125 19.1875 8.296875 \r\nz\r\n\" id=\"DejaVuSans-50\"/>\r\n       <path d=\"M 8.203125 72.90625 \r\nL 55.078125 72.90625 \r\nL 55.078125 68.703125 \r\nL 28.609375 0 \r\nL 18.3125 0 \r\nL 43.21875 64.59375 \r\nL 8.203125 64.59375 \r\nz\r\n\" id=\"DejaVuSans-55\"/>\r\n       <path d=\"M 31.78125 66.40625 \r\nQ 24.171875 66.40625 20.328125 58.90625 \r\nQ 16.5 51.421875 16.5 36.375 \r\nQ 16.5 21.390625 20.328125 13.890625 \r\nQ 24.171875 6.390625 31.78125 6.390625 \r\nQ 39.453125 6.390625 43.28125 13.890625 \r\nQ 47.125 21.390625 47.125 36.375 \r\nQ 47.125 51.421875 43.28125 58.90625 \r\nQ 39.453125 66.40625 31.78125 66.40625 \r\nz\r\nM 31.78125 74.21875 \r\nQ 44.046875 74.21875 50.515625 64.515625 \r\nQ 56.984375 54.828125 56.984375 36.375 \r\nQ 56.984375 17.96875 50.515625 8.265625 \r\nQ 44.046875 -1.421875 31.78125 -1.421875 \r\nQ 19.53125 -1.421875 13.0625 8.265625 \r\nQ 6.59375 17.96875 6.59375 36.375 \r\nQ 6.59375 54.828125 13.0625 64.515625 \r\nQ 19.53125 74.21875 31.78125 74.21875 \r\nz\r\n\" id=\"DejaVuSans-48\"/>\r\n       <path d=\"M 33.015625 40.375 \r\nQ 26.375 40.375 22.484375 35.828125 \r\nQ 18.609375 31.296875 18.609375 23.390625 \r\nQ 18.609375 15.53125 22.484375 10.953125 \r\nQ 26.375 6.390625 33.015625 6.390625 \r\nQ 39.65625 6.390625 43.53125 10.953125 \r\nQ 47.40625 15.53125 47.40625 23.390625 \r\nQ 47.40625 31.296875 43.53125 35.828125 \r\nQ 39.65625 40.375 33.015625 40.375 \r\nz\r\nM 52.59375 71.296875 \r\nL 52.59375 62.3125 \r\nQ 48.875 64.0625 45.09375 64.984375 \r\nQ 41.3125 65.921875 37.59375 65.921875 \r\nQ 27.828125 65.921875 22.671875 59.328125 \r\nQ 17.53125 52.734375 16.796875 39.40625 \r\nQ 19.671875 43.65625 24.015625 45.921875 \r\nQ 28.375 48.1875 33.59375 48.1875 \r\nQ 44.578125 48.1875 50.953125 41.515625 \r\nQ 57.328125 34.859375 57.328125 23.390625 \r\nQ 57.328125 12.15625 50.6875 5.359375 \r\nQ 44.046875 -1.421875 33.015625 -1.421875 \r\nQ 20.359375 -1.421875 13.671875 8.265625 \r\nQ 6.984375 17.96875 6.984375 36.375 \r\nQ 6.984375 53.65625 15.1875 63.9375 \r\nQ 23.390625 74.21875 37.203125 74.21875 \r\nQ 40.921875 74.21875 44.703125 73.484375 \r\nQ 48.484375 72.75 52.59375 71.296875 \r\nz\r\n\" id=\"DejaVuSans-54\"/>\r\n       <path d=\"M 12.40625 8.296875 \r\nL 28.515625 8.296875 \r\nL 28.515625 63.921875 \r\nL 10.984375 60.40625 \r\nL 10.984375 69.390625 \r\nL 28.421875 72.90625 \r\nL 38.28125 72.90625 \r\nL 38.28125 8.296875 \r\nL 54.390625 8.296875 \r\nL 54.390625 0 \r\nL 12.40625 0 \r\nz\r\n\" id=\"DejaVuSans-49\"/>\r\n       <path d=\"M 37.796875 64.3125 \r\nL 12.890625 25.390625 \r\nL 37.796875 25.390625 \r\nz\r\nM 35.203125 72.90625 \r\nL 47.609375 72.90625 \r\nL 47.609375 25.390625 \r\nL 58.015625 25.390625 \r\nL 58.015625 17.1875 \r\nL 47.609375 17.1875 \r\nL 47.609375 0 \r\nL 37.796875 0 \r\nL 37.796875 17.1875 \r\nL 4.890625 17.1875 \r\nL 4.890625 26.703125 \r\nz\r\n\" id=\"DejaVuSans-52\"/>\r\n       <path d=\"M 40.578125 39.3125 \r\nQ 47.65625 37.796875 51.625 33 \r\nQ 55.609375 28.21875 55.609375 21.1875 \r\nQ 55.609375 10.40625 48.1875 4.484375 \r\nQ 40.765625 -1.421875 27.09375 -1.421875 \r\nQ 22.515625 -1.421875 17.65625 -0.515625 \r\nQ 12.796875 0.390625 7.625 2.203125 \r\nL 7.625 11.71875 \r\nQ 11.71875 9.328125 16.59375 8.109375 \r\nQ 21.484375 6.890625 26.8125 6.890625 \r\nQ 36.078125 6.890625 40.9375 10.546875 \r\nQ 45.796875 14.203125 45.796875 21.1875 \r\nQ 45.796875 27.640625 41.28125 31.265625 \r\nQ 36.765625 34.90625 28.71875 34.90625 \r\nL 20.21875 34.90625 \r\nL 20.21875 43.015625 \r\nL 29.109375 43.015625 \r\nQ 36.375 43.015625 40.234375 45.921875 \r\nQ 44.09375 48.828125 44.09375 54.296875 \r\nQ 44.09375 59.90625 40.109375 62.90625 \r\nQ 36.140625 65.921875 28.71875 65.921875 \r\nQ 24.65625 65.921875 20.015625 65.03125 \r\nQ 15.375 64.15625 9.8125 62.3125 \r\nL 9.8125 71.09375 \r\nQ 15.4375 72.65625 20.34375 73.4375 \r\nQ 25.25 74.21875 29.59375 74.21875 \r\nQ 40.828125 74.21875 47.359375 69.109375 \r\nQ 53.90625 64.015625 53.90625 55.328125 \r\nQ 53.90625 49.265625 50.4375 45.09375 \r\nQ 46.96875 40.921875 40.578125 39.3125 \r\nz\r\n\" id=\"DejaVuSans-51\"/>\r\n      </defs>\r\n      <g transform=\"translate(50.380804 304.797966)rotate(-90)scale(0.1 -0.1)\">\r\n       <use xlink:href=\"#DejaVuSans-57\"/>\r\n       <use x=\"63.623047\" xlink:href=\"#DejaVuSans-50\"/>\r\n       <use x=\"127.246094\" xlink:href=\"#DejaVuSans-55\"/>\r\n       <use x=\"190.869141\" xlink:href=\"#DejaVuSans-48\"/>\r\n       <use x=\"254.492188\" xlink:href=\"#DejaVuSans-54\"/>\r\n       <use x=\"318.115234\" xlink:href=\"#DejaVuSans-49\"/>\r\n       <use x=\"381.738281\" xlink:href=\"#DejaVuSans-49\"/>\r\n       <use x=\"445.361328\" xlink:href=\"#DejaVuSans-52\"/>\r\n       <use x=\"508.984375\" xlink:href=\"#DejaVuSans-50\"/>\r\n       <use x=\"572.607422\" xlink:href=\"#DejaVuSans-51\"/>\r\n       <use x=\"636.230469\" xlink:href=\"#DejaVuSans-54\"/>\r\n      </g>\r\n     </g>\r\n    </g>\r\n    <g id=\"xtick_2\">\r\n     <g id=\"line2d_2\">\r\n      <g>\r\n       <use style=\"stroke:#000000;stroke-width:0.8;\" x=\"63.564286\" xlink:href=\"#m9937e726aa\" y=\"227.810466\"/>\r\n      </g>\r\n     </g>\r\n     <g id=\"text_2\">\r\n      <!-- 93615631856 -->\r\n      <defs>\r\n       <path d=\"M 10.796875 72.90625 \r\nL 49.515625 72.90625 \r\nL 49.515625 64.59375 \r\nL 19.828125 64.59375 \r\nL 19.828125 46.734375 \r\nQ 21.96875 47.46875 24.109375 47.828125 \r\nQ 26.265625 48.1875 28.421875 48.1875 \r\nQ 40.625 48.1875 47.75 41.5 \r\nQ 54.890625 34.8125 54.890625 23.390625 \r\nQ 54.890625 11.625 47.5625 5.09375 \r\nQ 40.234375 -1.421875 26.90625 -1.421875 \r\nQ 22.3125 -1.421875 17.546875 -0.640625 \r\nQ 12.796875 0.140625 7.71875 1.703125 \r\nL 7.71875 11.625 \r\nQ 12.109375 9.234375 16.796875 8.0625 \r\nQ 21.484375 6.890625 26.703125 6.890625 \r\nQ 35.15625 6.890625 40.078125 11.328125 \r\nQ 45.015625 15.765625 45.015625 23.390625 \r\nQ 45.015625 31 40.078125 35.4375 \r\nQ 35.15625 39.890625 26.703125 39.890625 \r\nQ 22.75 39.890625 18.8125 39.015625 \r\nQ 14.890625 38.140625 10.796875 36.28125 \r\nz\r\n\" id=\"DejaVuSans-53\"/>\r\n       <path d=\"M 31.78125 34.625 \r\nQ 24.75 34.625 20.71875 30.859375 \r\nQ 16.703125 27.09375 16.703125 20.515625 \r\nQ 16.703125 13.921875 20.71875 10.15625 \r\nQ 24.75 6.390625 31.78125 6.390625 \r\nQ 38.8125 6.390625 42.859375 10.171875 \r\nQ 46.921875 13.96875 46.921875 20.515625 \r\nQ 46.921875 27.09375 42.890625 30.859375 \r\nQ 38.875 34.625 31.78125 34.625 \r\nz\r\nM 21.921875 38.8125 \r\nQ 15.578125 40.375 12.03125 44.71875 \r\nQ 8.5 49.078125 8.5 55.328125 \r\nQ 8.5 64.0625 14.71875 69.140625 \r\nQ 20.953125 74.21875 31.78125 74.21875 \r\nQ 42.671875 74.21875 48.875 69.140625 \r\nQ 55.078125 64.0625 55.078125 55.328125 \r\nQ 55.078125 49.078125 51.53125 44.71875 \r\nQ 48 40.375 41.703125 38.8125 \r\nQ 48.828125 37.15625 52.796875 32.3125 \r\nQ 56.78125 27.484375 56.78125 20.515625 \r\nQ 56.78125 9.90625 50.3125 4.234375 \r\nQ 43.84375 -1.421875 31.78125 -1.421875 \r\nQ 19.734375 -1.421875 13.25 4.234375 \r\nQ 6.78125 9.90625 6.78125 20.515625 \r\nQ 6.78125 27.484375 10.78125 32.3125 \r\nQ 14.796875 37.15625 21.921875 38.8125 \r\nz\r\nM 18.3125 54.390625 \r\nQ 18.3125 48.734375 21.84375 45.5625 \r\nQ 25.390625 42.390625 31.78125 42.390625 \r\nQ 38.140625 42.390625 41.71875 45.5625 \r\nQ 45.3125 48.734375 45.3125 54.390625 \r\nQ 45.3125 60.0625 41.71875 63.234375 \r\nQ 38.140625 66.40625 31.78125 66.40625 \r\nQ 25.390625 66.40625 21.84375 63.234375 \r\nQ 18.3125 60.0625 18.3125 54.390625 \r\nz\r\n\" id=\"DejaVuSans-56\"/>\r\n      </defs>\r\n      <g transform=\"translate(66.323661 304.797966)rotate(-90)scale(0.1 -0.1)\">\r\n       <use xlink:href=\"#DejaVuSans-57\"/>\r\n       <use x=\"63.623047\" xlink:href=\"#DejaVuSans-51\"/>\r\n       <use x=\"127.246094\" xlink:href=\"#DejaVuSans-54\"/>\r\n       <use x=\"190.869141\" xlink:href=\"#DejaVuSans-49\"/>\r\n       <use x=\"254.492188\" xlink:href=\"#DejaVuSans-53\"/>\r\n       <use x=\"318.115234\" xlink:href=\"#DejaVuSans-54\"/>\r\n       <use x=\"381.738281\" xlink:href=\"#DejaVuSans-51\"/>\r\n       <use x=\"445.361328\" xlink:href=\"#DejaVuSans-49\"/>\r\n       <use x=\"508.984375\" xlink:href=\"#DejaVuSans-56\"/>\r\n       <use x=\"572.607422\" xlink:href=\"#DejaVuSans-53\"/>\r\n       <use x=\"636.230469\" xlink:href=\"#DejaVuSans-54\"/>\r\n      </g>\r\n     </g>\r\n    </g>\r\n    <g id=\"xtick_3\">\r\n     <g id=\"line2d_3\">\r\n      <g>\r\n       <use style=\"stroke:#000000;stroke-width:0.8;\" x=\"79.507143\" xlink:href=\"#m9937e726aa\" y=\"227.810466\"/>\r\n      </g>\r\n     </g>\r\n     <g id=\"text_3\">\r\n      <!-- 92901442004 -->\r\n      <g transform=\"translate(82.266518 304.797966)rotate(-90)scale(0.1 -0.1)\">\r\n       <use xlink:href=\"#DejaVuSans-57\"/>\r\n       <use x=\"63.623047\" xlink:href=\"#DejaVuSans-50\"/>\r\n       <use x=\"127.246094\" xlink:href=\"#DejaVuSans-57\"/>\r\n       <use x=\"190.869141\" xlink:href=\"#DejaVuSans-48\"/>\r\n       <use x=\"254.492188\" xlink:href=\"#DejaVuSans-49\"/>\r\n       <use x=\"318.115234\" xlink:href=\"#DejaVuSans-52\"/>\r\n       <use x=\"381.738281\" xlink:href=\"#DejaVuSans-52\"/>\r\n       <use x=\"445.361328\" xlink:href=\"#DejaVuSans-50\"/>\r\n       <use x=\"508.984375\" xlink:href=\"#DejaVuSans-48\"/>\r\n       <use x=\"572.607422\" xlink:href=\"#DejaVuSans-48\"/>\r\n       <use x=\"636.230469\" xlink:href=\"#DejaVuSans-52\"/>\r\n      </g>\r\n     </g>\r\n    </g>\r\n    <g id=\"xtick_4\">\r\n     <g id=\"line2d_4\">\r\n      <g>\r\n       <use style=\"stroke:#000000;stroke-width:0.8;\" x=\"95.45\" xlink:href=\"#m9937e726aa\" y=\"227.810466\"/>\r\n      </g>\r\n     </g>\r\n     <g id=\"text_4\">\r\n      <!-- -1 -->\r\n      <defs>\r\n       <path d=\"M 4.890625 31.390625 \r\nL 31.203125 31.390625 \r\nL 31.203125 23.390625 \r\nL 4.890625 23.390625 \r\nz\r\n\" id=\"DejaVuSans-45\"/>\r\n      </defs>\r\n      <g transform=\"translate(98.209375 244.780779)rotate(-90)scale(0.1 -0.1)\">\r\n       <use xlink:href=\"#DejaVuSans-45\"/>\r\n       <use x=\"36.083984\" xlink:href=\"#DejaVuSans-49\"/>\r\n      </g>\r\n     </g>\r\n    </g>\r\n    <g id=\"xtick_5\">\r\n     <g id=\"line2d_5\">\r\n      <g>\r\n       <use style=\"stroke:#000000;stroke-width:0.8;\" x=\"111.392857\" xlink:href=\"#m9937e726aa\" y=\"227.810466\"/>\r\n      </g>\r\n     </g>\r\n     <g id=\"text_5\">\r\n      <!-- 92916149332 -->\r\n      <g transform=\"translate(114.152232 304.797966)rotate(-90)scale(0.1 -0.1)\">\r\n       <use xlink:href=\"#DejaVuSans-57\"/>\r\n       <use x=\"63.623047\" xlink:href=\"#DejaVuSans-50\"/>\r\n       <use x=\"127.246094\" xlink:href=\"#DejaVuSans-57\"/>\r\n       <use x=\"190.869141\" xlink:href=\"#DejaVuSans-49\"/>\r\n       <use x=\"254.492188\" xlink:href=\"#DejaVuSans-54\"/>\r\n       <use x=\"318.115234\" xlink:href=\"#DejaVuSans-49\"/>\r\n       <use x=\"381.738281\" xlink:href=\"#DejaVuSans-52\"/>\r\n       <use x=\"445.361328\" xlink:href=\"#DejaVuSans-57\"/>\r\n       <use x=\"508.984375\" xlink:href=\"#DejaVuSans-51\"/>\r\n       <use x=\"572.607422\" xlink:href=\"#DejaVuSans-51\"/>\r\n       <use x=\"636.230469\" xlink:href=\"#DejaVuSans-50\"/>\r\n      </g>\r\n     </g>\r\n    </g>\r\n    <g id=\"xtick_6\">\r\n     <g id=\"line2d_6\">\r\n      <g>\r\n       <use style=\"stroke:#000000;stroke-width:0.8;\" x=\"127.335714\" xlink:href=\"#m9937e726aa\" y=\"227.810466\"/>\r\n      </g>\r\n     </g>\r\n     <g id=\"text_6\">\r\n      <!-- 93568880464 -->\r\n      <g transform=\"translate(130.095089 304.797966)rotate(-90)scale(0.1 -0.1)\">\r\n       <use xlink:href=\"#DejaVuSans-57\"/>\r\n       <use x=\"63.623047\" xlink:href=\"#DejaVuSans-51\"/>\r\n       <use x=\"127.246094\" xlink:href=\"#DejaVuSans-53\"/>\r\n       <use x=\"190.869141\" xlink:href=\"#DejaVuSans-54\"/>\r\n       <use x=\"254.492188\" xlink:href=\"#DejaVuSans-56\"/>\r\n       <use x=\"318.115234\" xlink:href=\"#DejaVuSans-56\"/>\r\n       <use x=\"381.738281\" xlink:href=\"#DejaVuSans-56\"/>\r\n       <use x=\"445.361328\" xlink:href=\"#DejaVuSans-48\"/>\r\n       <use x=\"508.984375\" xlink:href=\"#DejaVuSans-52\"/>\r\n       <use x=\"572.607422\" xlink:href=\"#DejaVuSans-54\"/>\r\n       <use x=\"636.230469\" xlink:href=\"#DejaVuSans-52\"/>\r\n      </g>\r\n     </g>\r\n    </g>\r\n    <g id=\"xtick_7\">\r\n     <g id=\"line2d_7\">\r\n      <g>\r\n       <use style=\"stroke:#000000;stroke-width:0.8;\" x=\"143.278571\" xlink:href=\"#m9937e726aa\" y=\"227.810466\"/>\r\n      </g>\r\n     </g>\r\n     <g id=\"text_7\">\r\n      <!-- 93926004488 -->\r\n      <g transform=\"translate(146.037946 304.797966)rotate(-90)scale(0.1 -0.1)\">\r\n       <use xlink:href=\"#DejaVuSans-57\"/>\r\n       <use x=\"63.623047\" xlink:href=\"#DejaVuSans-51\"/>\r\n       <use x=\"127.246094\" xlink:href=\"#DejaVuSans-57\"/>\r\n       <use x=\"190.869141\" xlink:href=\"#DejaVuSans-50\"/>\r\n       <use x=\"254.492188\" xlink:href=\"#DejaVuSans-54\"/>\r\n       <use x=\"318.115234\" xlink:href=\"#DejaVuSans-48\"/>\r\n       <use x=\"381.738281\" xlink:href=\"#DejaVuSans-48\"/>\r\n       <use x=\"445.361328\" xlink:href=\"#DejaVuSans-52\"/>\r\n       <use x=\"508.984375\" xlink:href=\"#DejaVuSans-52\"/>\r\n       <use x=\"572.607422\" xlink:href=\"#DejaVuSans-56\"/>\r\n       <use x=\"636.230469\" xlink:href=\"#DejaVuSans-56\"/>\r\n      </g>\r\n     </g>\r\n    </g>\r\n    <g id=\"xtick_8\">\r\n     <g id=\"line2d_8\">\r\n      <g>\r\n       <use style=\"stroke:#000000;stroke-width:0.8;\" x=\"159.221429\" xlink:href=\"#m9937e726aa\" y=\"227.810466\"/>\r\n      </g>\r\n     </g>\r\n     <g id=\"text_8\">\r\n      <!-- 93955937600 -->\r\n      <g transform=\"translate(161.980804 304.797966)rotate(-90)scale(0.1 -0.1)\">\r\n       <use xlink:href=\"#DejaVuSans-57\"/>\r\n       <use x=\"63.623047\" xlink:href=\"#DejaVuSans-51\"/>\r\n       <use x=\"127.246094\" xlink:href=\"#DejaVuSans-57\"/>\r\n       <use x=\"190.869141\" xlink:href=\"#DejaVuSans-53\"/>\r\n       <use x=\"254.492188\" xlink:href=\"#DejaVuSans-53\"/>\r\n       <use x=\"318.115234\" xlink:href=\"#DejaVuSans-57\"/>\r\n       <use x=\"381.738281\" xlink:href=\"#DejaVuSans-51\"/>\r\n       <use x=\"445.361328\" xlink:href=\"#DejaVuSans-55\"/>\r\n       <use x=\"508.984375\" xlink:href=\"#DejaVuSans-54\"/>\r\n       <use x=\"572.607422\" xlink:href=\"#DejaVuSans-48\"/>\r\n       <use x=\"636.230469\" xlink:href=\"#DejaVuSans-48\"/>\r\n      </g>\r\n     </g>\r\n    </g>\r\n    <g id=\"xtick_9\">\r\n     <g id=\"line2d_9\">\r\n      <g>\r\n       <use style=\"stroke:#000000;stroke-width:0.8;\" x=\"175.164286\" xlink:href=\"#m9937e726aa\" y=\"227.810466\"/>\r\n      </g>\r\n     </g>\r\n     <g id=\"text_9\">\r\n      <!-- 92705899400 -->\r\n      <g transform=\"translate(177.923661 304.797966)rotate(-90)scale(0.1 -0.1)\">\r\n       <use xlink:href=\"#DejaVuSans-57\"/>\r\n       <use x=\"63.623047\" xlink:href=\"#DejaVuSans-50\"/>\r\n       <use x=\"127.246094\" xlink:href=\"#DejaVuSans-55\"/>\r\n       <use x=\"190.869141\" xlink:href=\"#DejaVuSans-48\"/>\r\n       <use x=\"254.492188\" xlink:href=\"#DejaVuSans-53\"/>\r\n       <use x=\"318.115234\" xlink:href=\"#DejaVuSans-56\"/>\r\n       <use x=\"381.738281\" xlink:href=\"#DejaVuSans-57\"/>\r\n       <use x=\"445.361328\" xlink:href=\"#DejaVuSans-57\"/>\r\n       <use x=\"508.984375\" xlink:href=\"#DejaVuSans-52\"/>\r\n       <use x=\"572.607422\" xlink:href=\"#DejaVuSans-48\"/>\r\n       <use x=\"636.230469\" xlink:href=\"#DejaVuSans-48\"/>\r\n      </g>\r\n     </g>\r\n    </g>\r\n    <g id=\"xtick_10\">\r\n     <g id=\"line2d_10\">\r\n      <g>\r\n       <use style=\"stroke:#000000;stroke-width:0.8;\" x=\"191.107143\" xlink:href=\"#m9937e726aa\" y=\"227.810466\"/>\r\n      </g>\r\n     </g>\r\n     <g id=\"text_10\">\r\n      <!-- 93096589320 -->\r\n      <g transform=\"translate(193.866518 304.797966)rotate(-90)scale(0.1 -0.1)\">\r\n       <use xlink:href=\"#DejaVuSans-57\"/>\r\n       <use x=\"63.623047\" xlink:href=\"#DejaVuSans-51\"/>\r\n       <use x=\"127.246094\" xlink:href=\"#DejaVuSans-48\"/>\r\n       <use x=\"190.869141\" xlink:href=\"#DejaVuSans-57\"/>\r\n       <use x=\"254.492188\" xlink:href=\"#DejaVuSans-54\"/>\r\n       <use x=\"318.115234\" xlink:href=\"#DejaVuSans-53\"/>\r\n       <use x=\"381.738281\" xlink:href=\"#DejaVuSans-56\"/>\r\n       <use x=\"445.361328\" xlink:href=\"#DejaVuSans-57\"/>\r\n       <use x=\"508.984375\" xlink:href=\"#DejaVuSans-51\"/>\r\n       <use x=\"572.607422\" xlink:href=\"#DejaVuSans-50\"/>\r\n       <use x=\"636.230469\" xlink:href=\"#DejaVuSans-48\"/>\r\n      </g>\r\n     </g>\r\n    </g>\r\n    <g id=\"xtick_11\">\r\n     <g id=\"line2d_11\">\r\n      <g>\r\n       <use style=\"stroke:#000000;stroke-width:0.8;\" x=\"207.05\" xlink:href=\"#m9937e726aa\" y=\"227.810466\"/>\r\n      </g>\r\n     </g>\r\n     <g id=\"text_11\">\r\n      <!-- 93221812784 -->\r\n      <g transform=\"translate(209.809375 304.797966)rotate(-90)scale(0.1 -0.1)\">\r\n       <use xlink:href=\"#DejaVuSans-57\"/>\r\n       <use x=\"63.623047\" xlink:href=\"#DejaVuSans-51\"/>\r\n       <use x=\"127.246094\" xlink:href=\"#DejaVuSans-50\"/>\r\n       <use x=\"190.869141\" xlink:href=\"#DejaVuSans-50\"/>\r\n       <use x=\"254.492188\" xlink:href=\"#DejaVuSans-49\"/>\r\n       <use x=\"318.115234\" xlink:href=\"#DejaVuSans-56\"/>\r\n       <use x=\"381.738281\" xlink:href=\"#DejaVuSans-49\"/>\r\n       <use x=\"445.361328\" xlink:href=\"#DejaVuSans-50\"/>\r\n       <use x=\"508.984375\" xlink:href=\"#DejaVuSans-55\"/>\r\n       <use x=\"572.607422\" xlink:href=\"#DejaVuSans-56\"/>\r\n       <use x=\"636.230469\" xlink:href=\"#DejaVuSans-52\"/>\r\n      </g>\r\n     </g>\r\n    </g>\r\n    <g id=\"xtick_12\">\r\n     <g id=\"line2d_12\">\r\n      <g>\r\n       <use style=\"stroke:#000000;stroke-width:0.8;\" x=\"222.992857\" xlink:href=\"#m9937e726aa\" y=\"227.810466\"/>\r\n      </g>\r\n     </g>\r\n     <g id=\"text_12\">\r\n      <!-- 93150958560 -->\r\n      <g transform=\"translate(225.752232 304.797966)rotate(-90)scale(0.1 -0.1)\">\r\n       <use xlink:href=\"#DejaVuSans-57\"/>\r\n       <use x=\"63.623047\" xlink:href=\"#DejaVuSans-51\"/>\r\n       <use x=\"127.246094\" xlink:href=\"#DejaVuSans-49\"/>\r\n       <use x=\"190.869141\" xlink:href=\"#DejaVuSans-53\"/>\r\n       <use x=\"254.492188\" xlink:href=\"#DejaVuSans-48\"/>\r\n       <use x=\"318.115234\" xlink:href=\"#DejaVuSans-57\"/>\r\n       <use x=\"381.738281\" xlink:href=\"#DejaVuSans-53\"/>\r\n       <use x=\"445.361328\" xlink:href=\"#DejaVuSans-56\"/>\r\n       <use x=\"508.984375\" xlink:href=\"#DejaVuSans-53\"/>\r\n       <use x=\"572.607422\" xlink:href=\"#DejaVuSans-54\"/>\r\n       <use x=\"636.230469\" xlink:href=\"#DejaVuSans-48\"/>\r\n      </g>\r\n     </g>\r\n    </g>\r\n    <g id=\"xtick_13\">\r\n     <g id=\"line2d_13\">\r\n      <g>\r\n       <use style=\"stroke:#000000;stroke-width:0.8;\" x=\"238.935714\" xlink:href=\"#m9937e726aa\" y=\"227.810466\"/>\r\n      </g>\r\n     </g>\r\n     <g id=\"text_13\">\r\n      <!-- 92843445448 -->\r\n      <g transform=\"translate(241.695089 304.797966)rotate(-90)scale(0.1 -0.1)\">\r\n       <use xlink:href=\"#DejaVuSans-57\"/>\r\n       <use x=\"63.623047\" xlink:href=\"#DejaVuSans-50\"/>\r\n       <use x=\"127.246094\" xlink:href=\"#DejaVuSans-56\"/>\r\n       <use x=\"190.869141\" xlink:href=\"#DejaVuSans-52\"/>\r\n       <use x=\"254.492188\" xlink:href=\"#DejaVuSans-51\"/>\r\n       <use x=\"318.115234\" xlink:href=\"#DejaVuSans-52\"/>\r\n       <use x=\"381.738281\" xlink:href=\"#DejaVuSans-52\"/>\r\n       <use x=\"445.361328\" xlink:href=\"#DejaVuSans-53\"/>\r\n       <use x=\"508.984375\" xlink:href=\"#DejaVuSans-52\"/>\r\n       <use x=\"572.607422\" xlink:href=\"#DejaVuSans-52\"/>\r\n       <use x=\"636.230469\" xlink:href=\"#DejaVuSans-56\"/>\r\n      </g>\r\n     </g>\r\n    </g>\r\n    <g id=\"xtick_14\">\r\n     <g id=\"line2d_14\">\r\n      <g>\r\n       <use style=\"stroke:#000000;stroke-width:0.8;\" x=\"254.878571\" xlink:href=\"#m9937e726aa\" y=\"227.810466\"/>\r\n      </g>\r\n     </g>\r\n     <g id=\"text_14\">\r\n      <!-- 93540914080 -->\r\n      <g transform=\"translate(257.637946 304.797966)rotate(-90)scale(0.1 -0.1)\">\r\n       <use xlink:href=\"#DejaVuSans-57\"/>\r\n       <use x=\"63.623047\" xlink:href=\"#DejaVuSans-51\"/>\r\n       <use x=\"127.246094\" xlink:href=\"#DejaVuSans-53\"/>\r\n       <use x=\"190.869141\" xlink:href=\"#DejaVuSans-52\"/>\r\n       <use x=\"254.492188\" xlink:href=\"#DejaVuSans-48\"/>\r\n       <use x=\"318.115234\" xlink:href=\"#DejaVuSans-57\"/>\r\n       <use x=\"381.738281\" xlink:href=\"#DejaVuSans-49\"/>\r\n       <use x=\"445.361328\" xlink:href=\"#DejaVuSans-52\"/>\r\n       <use x=\"508.984375\" xlink:href=\"#DejaVuSans-48\"/>\r\n       <use x=\"572.607422\" xlink:href=\"#DejaVuSans-56\"/>\r\n       <use x=\"636.230469\" xlink:href=\"#DejaVuSans-48\"/>\r\n      </g>\r\n     </g>\r\n    </g>\r\n    <g id=\"xtick_15\">\r\n     <g id=\"line2d_15\">\r\n      <g>\r\n       <use style=\"stroke:#000000;stroke-width:0.8;\" x=\"270.821429\" xlink:href=\"#m9937e726aa\" y=\"227.810466\"/>\r\n      </g>\r\n     </g>\r\n     <g id=\"text_15\">\r\n      <!-- 93670230464 -->\r\n      <g transform=\"translate(273.580804 304.797966)rotate(-90)scale(0.1 -0.1)\">\r\n       <use xlink:href=\"#DejaVuSans-57\"/>\r\n       <use x=\"63.623047\" xlink:href=\"#DejaVuSans-51\"/>\r\n       <use x=\"127.246094\" xlink:href=\"#DejaVuSans-54\"/>\r\n       <use x=\"190.869141\" xlink:href=\"#DejaVuSans-55\"/>\r\n       <use x=\"254.492188\" xlink:href=\"#DejaVuSans-48\"/>\r\n       <use x=\"318.115234\" xlink:href=\"#DejaVuSans-50\"/>\r\n       <use x=\"381.738281\" xlink:href=\"#DejaVuSans-51\"/>\r\n       <use x=\"445.361328\" xlink:href=\"#DejaVuSans-48\"/>\r\n       <use x=\"508.984375\" xlink:href=\"#DejaVuSans-52\"/>\r\n       <use x=\"572.607422\" xlink:href=\"#DejaVuSans-54\"/>\r\n       <use x=\"636.230469\" xlink:href=\"#DejaVuSans-52\"/>\r\n      </g>\r\n     </g>\r\n    </g>\r\n    <g id=\"xtick_16\">\r\n     <g id=\"line2d_16\">\r\n      <g>\r\n       <use style=\"stroke:#000000;stroke-width:0.8;\" x=\"286.764286\" xlink:href=\"#m9937e726aa\" y=\"227.810466\"/>\r\n      </g>\r\n     </g>\r\n     <g id=\"text_16\">\r\n      <!-- 93191793424 -->\r\n      <g transform=\"translate(289.523661 304.797966)rotate(-90)scale(0.1 -0.1)\">\r\n       <use xlink:href=\"#DejaVuSans-57\"/>\r\n       <use x=\"63.623047\" xlink:href=\"#DejaVuSans-51\"/>\r\n       <use x=\"127.246094\" xlink:href=\"#DejaVuSans-49\"/>\r\n       <use x=\"190.869141\" xlink:href=\"#DejaVuSans-57\"/>\r\n       <use x=\"254.492188\" xlink:href=\"#DejaVuSans-49\"/>\r\n       <use x=\"318.115234\" xlink:href=\"#DejaVuSans-55\"/>\r\n       <use x=\"381.738281\" xlink:href=\"#DejaVuSans-57\"/>\r\n       <use x=\"445.361328\" xlink:href=\"#DejaVuSans-51\"/>\r\n       <use x=\"508.984375\" xlink:href=\"#DejaVuSans-52\"/>\r\n       <use x=\"572.607422\" xlink:href=\"#DejaVuSans-50\"/>\r\n       <use x=\"636.230469\" xlink:href=\"#DejaVuSans-52\"/>\r\n      </g>\r\n     </g>\r\n    </g>\r\n    <g id=\"xtick_17\">\r\n     <g id=\"line2d_17\">\r\n      <g>\r\n       <use style=\"stroke:#000000;stroke-width:0.8;\" x=\"302.707143\" xlink:href=\"#m9937e726aa\" y=\"227.810466\"/>\r\n      </g>\r\n     </g>\r\n     <g id=\"text_17\">\r\n      <!-- 79267321704 -->\r\n      <g transform=\"translate(305.466518 304.797966)rotate(-90)scale(0.1 -0.1)\">\r\n       <use xlink:href=\"#DejaVuSans-55\"/>\r\n       <use x=\"63.623047\" xlink:href=\"#DejaVuSans-57\"/>\r\n       <use x=\"127.246094\" xlink:href=\"#DejaVuSans-50\"/>\r\n       <use x=\"190.869141\" xlink:href=\"#DejaVuSans-54\"/>\r\n       <use x=\"254.492188\" xlink:href=\"#DejaVuSans-55\"/>\r\n       <use x=\"318.115234\" xlink:href=\"#DejaVuSans-51\"/>\r\n       <use x=\"381.738281\" xlink:href=\"#DejaVuSans-50\"/>\r\n       <use x=\"445.361328\" xlink:href=\"#DejaVuSans-49\"/>\r\n       <use x=\"508.984375\" xlink:href=\"#DejaVuSans-55\"/>\r\n       <use x=\"572.607422\" xlink:href=\"#DejaVuSans-48\"/>\r\n       <use x=\"636.230469\" xlink:href=\"#DejaVuSans-52\"/>\r\n      </g>\r\n     </g>\r\n    </g>\r\n    <g id=\"xtick_18\">\r\n     <g id=\"line2d_18\">\r\n      <g>\r\n       <use style=\"stroke:#000000;stroke-width:0.8;\" x=\"318.65\" xlink:href=\"#m9937e726aa\" y=\"227.810466\"/>\r\n      </g>\r\n     </g>\r\n     <g id=\"text_18\">\r\n      <!-- 93089351248 -->\r\n      <g transform=\"translate(321.409375 304.797966)rotate(-90)scale(0.1 -0.1)\">\r\n       <use xlink:href=\"#DejaVuSans-57\"/>\r\n       <use x=\"63.623047\" xlink:href=\"#DejaVuSans-51\"/>\r\n       <use x=\"127.246094\" xlink:href=\"#DejaVuSans-48\"/>\r\n       <use x=\"190.869141\" xlink:href=\"#DejaVuSans-56\"/>\r\n       <use x=\"254.492188\" xlink:href=\"#DejaVuSans-57\"/>\r\n       <use x=\"318.115234\" xlink:href=\"#DejaVuSans-51\"/>\r\n       <use x=\"381.738281\" xlink:href=\"#DejaVuSans-53\"/>\r\n       <use x=\"445.361328\" xlink:href=\"#DejaVuSans-49\"/>\r\n       <use x=\"508.984375\" xlink:href=\"#DejaVuSans-50\"/>\r\n       <use x=\"572.607422\" xlink:href=\"#DejaVuSans-52\"/>\r\n       <use x=\"636.230469\" xlink:href=\"#DejaVuSans-56\"/>\r\n      </g>\r\n     </g>\r\n    </g>\r\n    <g id=\"xtick_19\">\r\n     <g id=\"line2d_19\">\r\n      <g>\r\n       <use style=\"stroke:#000000;stroke-width:0.8;\" x=\"334.592857\" xlink:href=\"#m9937e726aa\" y=\"227.810466\"/>\r\n      </g>\r\n     </g>\r\n     <g id=\"text_19\">\r\n      <!-- 93226732624 -->\r\n      <g transform=\"translate(337.352232 304.797966)rotate(-90)scale(0.1 -0.1)\">\r\n       <use xlink:href=\"#DejaVuSans-57\"/>\r\n       <use x=\"63.623047\" xlink:href=\"#DejaVuSans-51\"/>\r\n       <use x=\"127.246094\" xlink:href=\"#DejaVuSans-50\"/>\r\n       <use x=\"190.869141\" xlink:href=\"#DejaVuSans-50\"/>\r\n       <use x=\"254.492188\" xlink:href=\"#DejaVuSans-54\"/>\r\n       <use x=\"318.115234\" xlink:href=\"#DejaVuSans-55\"/>\r\n       <use x=\"381.738281\" xlink:href=\"#DejaVuSans-51\"/>\r\n       <use x=\"445.361328\" xlink:href=\"#DejaVuSans-50\"/>\r\n       <use x=\"508.984375\" xlink:href=\"#DejaVuSans-54\"/>\r\n       <use x=\"572.607422\" xlink:href=\"#DejaVuSans-50\"/>\r\n       <use x=\"636.230469\" xlink:href=\"#DejaVuSans-52\"/>\r\n      </g>\r\n     </g>\r\n    </g>\r\n    <g id=\"xtick_20\">\r\n     <g id=\"line2d_20\">\r\n      <g>\r\n       <use style=\"stroke:#000000;stroke-width:0.8;\" x=\"350.535714\" xlink:href=\"#m9937e726aa\" y=\"227.810466\"/>\r\n      </g>\r\n     </g>\r\n     <g id=\"text_20\">\r\n      <!-- 93191715024 -->\r\n      <g transform=\"translate(353.295089 304.797966)rotate(-90)scale(0.1 -0.1)\">\r\n       <use xlink:href=\"#DejaVuSans-57\"/>\r\n       <use x=\"63.623047\" xlink:href=\"#DejaVuSans-51\"/>\r\n       <use x=\"127.246094\" xlink:href=\"#DejaVuSans-49\"/>\r\n       <use x=\"190.869141\" xlink:href=\"#DejaVuSans-57\"/>\r\n       <use x=\"254.492188\" xlink:href=\"#DejaVuSans-49\"/>\r\n       <use x=\"318.115234\" xlink:href=\"#DejaVuSans-55\"/>\r\n       <use x=\"381.738281\" xlink:href=\"#DejaVuSans-49\"/>\r\n       <use x=\"445.361328\" xlink:href=\"#DejaVuSans-53\"/>\r\n       <use x=\"508.984375\" xlink:href=\"#DejaVuSans-48\"/>\r\n       <use x=\"572.607422\" xlink:href=\"#DejaVuSans-50\"/>\r\n       <use x=\"636.230469\" xlink:href=\"#DejaVuSans-52\"/>\r\n      </g>\r\n     </g>\r\n    </g>\r\n    <g id=\"xtick_21\">\r\n     <g id=\"line2d_21\">\r\n      <g>\r\n       <use style=\"stroke:#000000;stroke-width:0.8;\" x=\"366.478571\" xlink:href=\"#m9937e726aa\" y=\"227.810466\"/>\r\n      </g>\r\n     </g>\r\n     <g id=\"text_21\">\r\n      <!-- 93209484392 -->\r\n      <g transform=\"translate(369.237946 304.797966)rotate(-90)scale(0.1 -0.1)\">\r\n       <use xlink:href=\"#DejaVuSans-57\"/>\r\n       <use x=\"63.623047\" xlink:href=\"#DejaVuSans-51\"/>\r\n       <use x=\"127.246094\" xlink:href=\"#DejaVuSans-50\"/>\r\n       <use x=\"190.869141\" xlink:href=\"#DejaVuSans-48\"/>\r\n       <use x=\"254.492188\" xlink:href=\"#DejaVuSans-57\"/>\r\n       <use x=\"318.115234\" xlink:href=\"#DejaVuSans-52\"/>\r\n       <use x=\"381.738281\" xlink:href=\"#DejaVuSans-56\"/>\r\n       <use x=\"445.361328\" xlink:href=\"#DejaVuSans-52\"/>\r\n       <use x=\"508.984375\" xlink:href=\"#DejaVuSans-51\"/>\r\n       <use x=\"572.607422\" xlink:href=\"#DejaVuSans-57\"/>\r\n       <use x=\"636.230469\" xlink:href=\"#DejaVuSans-50\"/>\r\n      </g>\r\n     </g>\r\n    </g>\r\n   </g>\r\n   <g id=\"matplotlib.axis_2\">\r\n    <g id=\"ytick_1\">\r\n     <g id=\"line2d_22\">\r\n      <defs>\r\n       <path d=\"M 0 0 \r\nL -3.5 0 \r\n\" id=\"m79f5496008\" style=\"stroke:#000000;stroke-width:0.8;\"/>\r\n      </defs>\r\n      <g>\r\n       <use style=\"stroke:#000000;stroke-width:0.8;\" x=\"39.65\" xlink:href=\"#m79f5496008\" y=\"227.810466\"/>\r\n      </g>\r\n     </g>\r\n     <g id=\"text_22\">\r\n      <!-- 0 -->\r\n      <g transform=\"translate(26.2875 231.609685)scale(0.1 -0.1)\">\r\n       <use xlink:href=\"#DejaVuSans-48\"/>\r\n      </g>\r\n     </g>\r\n    </g>\r\n    <g id=\"ytick_2\">\r\n     <g id=\"line2d_23\">\r\n      <g>\r\n       <use style=\"stroke:#000000;stroke-width:0.8;\" x=\"39.65\" xlink:href=\"#m79f5496008\" y=\"196.837431\"/>\r\n      </g>\r\n     </g>\r\n     <g id=\"text_23\">\r\n      <!-- 1000 -->\r\n      <g transform=\"translate(7.2 200.63665)scale(0.1 -0.1)\">\r\n       <use xlink:href=\"#DejaVuSans-49\"/>\r\n       <use x=\"63.623047\" xlink:href=\"#DejaVuSans-48\"/>\r\n       <use x=\"127.246094\" xlink:href=\"#DejaVuSans-48\"/>\r\n       <use x=\"190.869141\" xlink:href=\"#DejaVuSans-48\"/>\r\n      </g>\r\n     </g>\r\n    </g>\r\n    <g id=\"ytick_3\">\r\n     <g id=\"line2d_24\">\r\n      <g>\r\n       <use style=\"stroke:#000000;stroke-width:0.8;\" x=\"39.65\" xlink:href=\"#m79f5496008\" y=\"165.864395\"/>\r\n      </g>\r\n     </g>\r\n     <g id=\"text_24\">\r\n      <!-- 2000 -->\r\n      <g transform=\"translate(7.2 169.663614)scale(0.1 -0.1)\">\r\n       <use xlink:href=\"#DejaVuSans-50\"/>\r\n       <use x=\"63.623047\" xlink:href=\"#DejaVuSans-48\"/>\r\n       <use x=\"127.246094\" xlink:href=\"#DejaVuSans-48\"/>\r\n       <use x=\"190.869141\" xlink:href=\"#DejaVuSans-48\"/>\r\n      </g>\r\n     </g>\r\n    </g>\r\n    <g id=\"ytick_4\">\r\n     <g id=\"line2d_25\">\r\n      <g>\r\n       <use style=\"stroke:#000000;stroke-width:0.8;\" x=\"39.65\" xlink:href=\"#m79f5496008\" y=\"134.89136\"/>\r\n      </g>\r\n     </g>\r\n     <g id=\"text_25\">\r\n      <!-- 3000 -->\r\n      <g transform=\"translate(7.2 138.690579)scale(0.1 -0.1)\">\r\n       <use xlink:href=\"#DejaVuSans-51\"/>\r\n       <use x=\"63.623047\" xlink:href=\"#DejaVuSans-48\"/>\r\n       <use x=\"127.246094\" xlink:href=\"#DejaVuSans-48\"/>\r\n       <use x=\"190.869141\" xlink:href=\"#DejaVuSans-48\"/>\r\n      </g>\r\n     </g>\r\n    </g>\r\n    <g id=\"ytick_5\">\r\n     <g id=\"line2d_26\">\r\n      <g>\r\n       <use style=\"stroke:#000000;stroke-width:0.8;\" x=\"39.65\" xlink:href=\"#m79f5496008\" y=\"103.918325\"/>\r\n      </g>\r\n     </g>\r\n     <g id=\"text_26\">\r\n      <!-- 4000 -->\r\n      <g transform=\"translate(7.2 107.717544)scale(0.1 -0.1)\">\r\n       <use xlink:href=\"#DejaVuSans-52\"/>\r\n       <use x=\"63.623047\" xlink:href=\"#DejaVuSans-48\"/>\r\n       <use x=\"127.246094\" xlink:href=\"#DejaVuSans-48\"/>\r\n       <use x=\"190.869141\" xlink:href=\"#DejaVuSans-48\"/>\r\n      </g>\r\n     </g>\r\n    </g>\r\n    <g id=\"ytick_6\">\r\n     <g id=\"line2d_27\">\r\n      <g>\r\n       <use style=\"stroke:#000000;stroke-width:0.8;\" x=\"39.65\" xlink:href=\"#m79f5496008\" y=\"72.945289\"/>\r\n      </g>\r\n     </g>\r\n     <g id=\"text_27\">\r\n      <!-- 5000 -->\r\n      <g transform=\"translate(7.2 76.744508)scale(0.1 -0.1)\">\r\n       <use xlink:href=\"#DejaVuSans-53\"/>\r\n       <use x=\"63.623047\" xlink:href=\"#DejaVuSans-48\"/>\r\n       <use x=\"127.246094\" xlink:href=\"#DejaVuSans-48\"/>\r\n       <use x=\"190.869141\" xlink:href=\"#DejaVuSans-48\"/>\r\n      </g>\r\n     </g>\r\n    </g>\r\n    <g id=\"ytick_7\">\r\n     <g id=\"line2d_28\">\r\n      <g>\r\n       <use style=\"stroke:#000000;stroke-width:0.8;\" x=\"39.65\" xlink:href=\"#m79f5496008\" y=\"41.972254\"/>\r\n      </g>\r\n     </g>\r\n     <g id=\"text_28\">\r\n      <!-- 6000 -->\r\n      <g transform=\"translate(7.2 45.771473)scale(0.1 -0.1)\">\r\n       <use xlink:href=\"#DejaVuSans-54\"/>\r\n       <use x=\"63.623047\" xlink:href=\"#DejaVuSans-48\"/>\r\n       <use x=\"127.246094\" xlink:href=\"#DejaVuSans-48\"/>\r\n       <use x=\"190.869141\" xlink:href=\"#DejaVuSans-48\"/>\r\n      </g>\r\n     </g>\r\n    </g>\r\n    <g id=\"ytick_8\">\r\n     <g id=\"line2d_29\">\r\n      <g>\r\n       <use style=\"stroke:#000000;stroke-width:0.8;\" x=\"39.65\" xlink:href=\"#m79f5496008\" y=\"10.999219\"/>\r\n      </g>\r\n     </g>\r\n     <g id=\"text_29\">\r\n      <!-- 7000 -->\r\n      <g transform=\"translate(7.2 14.798437)scale(0.1 -0.1)\">\r\n       <use xlink:href=\"#DejaVuSans-55\"/>\r\n       <use x=\"63.623047\" xlink:href=\"#DejaVuSans-48\"/>\r\n       <use x=\"127.246094\" xlink:href=\"#DejaVuSans-48\"/>\r\n       <use x=\"190.869141\" xlink:href=\"#DejaVuSans-48\"/>\r\n      </g>\r\n     </g>\r\n    </g>\r\n   </g>\r\n   <g id=\"patch_24\">\r\n    <path d=\"M 39.65 227.810466 \r\nL 39.65 10.370466 \r\n\" style=\"fill:none;stroke:#000000;stroke-linecap:square;stroke-linejoin:miter;stroke-width:0.8;\"/>\r\n   </g>\r\n   <g id=\"patch_25\">\r\n    <path d=\"M 374.45 227.810466 \r\nL 374.45 10.370466 \r\n\" style=\"fill:none;stroke:#000000;stroke-linecap:square;stroke-linejoin:miter;stroke-width:0.8;\"/>\r\n   </g>\r\n   <g id=\"patch_26\">\r\n    <path d=\"M 39.65 227.810466 \r\nL 374.45 227.810466 \r\n\" style=\"fill:none;stroke:#000000;stroke-linecap:square;stroke-linejoin:miter;stroke-width:0.8;\"/>\r\n   </g>\r\n   <g id=\"patch_27\">\r\n    <path d=\"M 39.65 10.370466 \r\nL 374.45 10.370466 \r\n\" style=\"fill:none;stroke:#000000;stroke-linecap:square;stroke-linejoin:miter;stroke-width:0.8;\"/>\r\n   </g>\r\n   <g id=\"legend_1\">\r\n    <g id=\"patch_28\">\r\n     <path d=\"M 276.6125 33.326716 \r\nL 367.45 33.326716 \r\nQ 369.45 33.326716 369.45 31.326716 \r\nL 369.45 17.370466 \r\nQ 369.45 15.370466 367.45 15.370466 \r\nL 276.6125 15.370466 \r\nQ 274.6125 15.370466 274.6125 17.370466 \r\nL 274.6125 31.326716 \r\nQ 274.6125 33.326716 276.6125 33.326716 \r\nz\r\n\" style=\"fill:#ffffff;opacity:0.8;stroke:#cccccc;stroke-linejoin:miter;\"/>\r\n    </g>\r\n    <g id=\"patch_29\">\r\n     <path d=\"M 278.6125 26.968904 \r\nL 298.6125 26.968904 \r\nL 298.6125 19.968904 \r\nL 278.6125 19.968904 \r\nz\r\n\" style=\"fill:#1f77b4;\"/>\r\n    </g>\r\n    <g id=\"text_30\">\r\n     <!-- SEG_counts -->\r\n     <defs>\r\n      <path d=\"M 53.515625 70.515625 \r\nL 53.515625 60.890625 \r\nQ 47.90625 63.578125 42.921875 64.890625 \r\nQ 37.9375 66.21875 33.296875 66.21875 \r\nQ 25.25 66.21875 20.875 63.09375 \r\nQ 16.5 59.96875 16.5 54.203125 \r\nQ 16.5 49.359375 19.40625 46.890625 \r\nQ 22.3125 44.4375 30.421875 42.921875 \r\nL 36.375 41.703125 \r\nQ 47.40625 39.59375 52.65625 34.296875 \r\nQ 57.90625 29 57.90625 20.125 \r\nQ 57.90625 9.515625 50.796875 4.046875 \r\nQ 43.703125 -1.421875 29.984375 -1.421875 \r\nQ 24.8125 -1.421875 18.96875 -0.25 \r\nQ 13.140625 0.921875 6.890625 3.21875 \r\nL 6.890625 13.375 \r\nQ 12.890625 10.015625 18.65625 8.296875 \r\nQ 24.421875 6.59375 29.984375 6.59375 \r\nQ 38.421875 6.59375 43.015625 9.90625 \r\nQ 47.609375 13.234375 47.609375 19.390625 \r\nQ 47.609375 24.75 44.3125 27.78125 \r\nQ 41.015625 30.8125 33.5 32.328125 \r\nL 27.484375 33.5 \r\nQ 16.453125 35.6875 11.515625 40.375 \r\nQ 6.59375 45.0625 6.59375 53.421875 \r\nQ 6.59375 63.09375 13.40625 68.65625 \r\nQ 20.21875 74.21875 32.171875 74.21875 \r\nQ 37.3125 74.21875 42.625 73.28125 \r\nQ 47.953125 72.359375 53.515625 70.515625 \r\nz\r\n\" id=\"DejaVuSans-83\"/>\r\n      <path d=\"M 9.8125 72.90625 \r\nL 55.90625 72.90625 \r\nL 55.90625 64.59375 \r\nL 19.671875 64.59375 \r\nL 19.671875 43.015625 \r\nL 54.390625 43.015625 \r\nL 54.390625 34.71875 \r\nL 19.671875 34.71875 \r\nL 19.671875 8.296875 \r\nL 56.78125 8.296875 \r\nL 56.78125 0 \r\nL 9.8125 0 \r\nz\r\n\" id=\"DejaVuSans-69\"/>\r\n      <path d=\"M 59.515625 10.40625 \r\nL 59.515625 29.984375 \r\nL 43.40625 29.984375 \r\nL 43.40625 38.09375 \r\nL 69.28125 38.09375 \r\nL 69.28125 6.78125 \r\nQ 63.578125 2.734375 56.6875 0.65625 \r\nQ 49.8125 -1.421875 42 -1.421875 \r\nQ 24.90625 -1.421875 15.25 8.5625 \r\nQ 5.609375 18.5625 5.609375 36.375 \r\nQ 5.609375 54.25 15.25 64.234375 \r\nQ 24.90625 74.21875 42 74.21875 \r\nQ 49.125 74.21875 55.546875 72.453125 \r\nQ 61.96875 70.703125 67.390625 67.28125 \r\nL 67.390625 56.78125 \r\nQ 61.921875 61.421875 55.765625 63.765625 \r\nQ 49.609375 66.109375 42.828125 66.109375 \r\nQ 29.4375 66.109375 22.71875 58.640625 \r\nQ 16.015625 51.171875 16.015625 36.375 \r\nQ 16.015625 21.625 22.71875 14.15625 \r\nQ 29.4375 6.6875 42.828125 6.6875 \r\nQ 48.046875 6.6875 52.140625 7.59375 \r\nQ 56.25 8.5 59.515625 10.40625 \r\nz\r\n\" id=\"DejaVuSans-71\"/>\r\n      <path d=\"M 50.984375 -16.609375 \r\nL 50.984375 -23.578125 \r\nL -0.984375 -23.578125 \r\nL -0.984375 -16.609375 \r\nz\r\n\" id=\"DejaVuSans-95\"/>\r\n      <path d=\"M 48.78125 52.59375 \r\nL 48.78125 44.1875 \r\nQ 44.96875 46.296875 41.140625 47.34375 \r\nQ 37.3125 48.390625 33.40625 48.390625 \r\nQ 24.65625 48.390625 19.8125 42.84375 \r\nQ 14.984375 37.3125 14.984375 27.296875 \r\nQ 14.984375 17.28125 19.8125 11.734375 \r\nQ 24.65625 6.203125 33.40625 6.203125 \r\nQ 37.3125 6.203125 41.140625 7.25 \r\nQ 44.96875 8.296875 48.78125 10.40625 \r\nL 48.78125 2.09375 \r\nQ 45.015625 0.34375 40.984375 -0.53125 \r\nQ 36.96875 -1.421875 32.421875 -1.421875 \r\nQ 20.0625 -1.421875 12.78125 6.34375 \r\nQ 5.515625 14.109375 5.515625 27.296875 \r\nQ 5.515625 40.671875 12.859375 48.328125 \r\nQ 20.21875 56 33.015625 56 \r\nQ 37.15625 56 41.109375 55.140625 \r\nQ 45.0625 54.296875 48.78125 52.59375 \r\nz\r\n\" id=\"DejaVuSans-99\"/>\r\n      <path d=\"M 30.609375 48.390625 \r\nQ 23.390625 48.390625 19.1875 42.75 \r\nQ 14.984375 37.109375 14.984375 27.296875 \r\nQ 14.984375 17.484375 19.15625 11.84375 \r\nQ 23.34375 6.203125 30.609375 6.203125 \r\nQ 37.796875 6.203125 41.984375 11.859375 \r\nQ 46.1875 17.53125 46.1875 27.296875 \r\nQ 46.1875 37.015625 41.984375 42.703125 \r\nQ 37.796875 48.390625 30.609375 48.390625 \r\nz\r\nM 30.609375 56 \r\nQ 42.328125 56 49.015625 48.375 \r\nQ 55.71875 40.765625 55.71875 27.296875 \r\nQ 55.71875 13.875 49.015625 6.21875 \r\nQ 42.328125 -1.421875 30.609375 -1.421875 \r\nQ 18.84375 -1.421875 12.171875 6.21875 \r\nQ 5.515625 13.875 5.515625 27.296875 \r\nQ 5.515625 40.765625 12.171875 48.375 \r\nQ 18.84375 56 30.609375 56 \r\nz\r\n\" id=\"DejaVuSans-111\"/>\r\n      <path d=\"M 8.5 21.578125 \r\nL 8.5 54.6875 \r\nL 17.484375 54.6875 \r\nL 17.484375 21.921875 \r\nQ 17.484375 14.15625 20.5 10.265625 \r\nQ 23.53125 6.390625 29.59375 6.390625 \r\nQ 36.859375 6.390625 41.078125 11.03125 \r\nQ 45.3125 15.671875 45.3125 23.6875 \r\nL 45.3125 54.6875 \r\nL 54.296875 54.6875 \r\nL 54.296875 0 \r\nL 45.3125 0 \r\nL 45.3125 8.40625 \r\nQ 42.046875 3.421875 37.71875 1 \r\nQ 33.40625 -1.421875 27.6875 -1.421875 \r\nQ 18.265625 -1.421875 13.375 4.4375 \r\nQ 8.5 10.296875 8.5 21.578125 \r\nz\r\nM 31.109375 56 \r\nz\r\n\" id=\"DejaVuSans-117\"/>\r\n      <path d=\"M 54.890625 33.015625 \r\nL 54.890625 0 \r\nL 45.90625 0 \r\nL 45.90625 32.71875 \r\nQ 45.90625 40.484375 42.875 44.328125 \r\nQ 39.84375 48.1875 33.796875 48.1875 \r\nQ 26.515625 48.1875 22.3125 43.546875 \r\nQ 18.109375 38.921875 18.109375 30.90625 \r\nL 18.109375 0 \r\nL 9.078125 0 \r\nL 9.078125 54.6875 \r\nL 18.109375 54.6875 \r\nL 18.109375 46.1875 \r\nQ 21.34375 51.125 25.703125 53.5625 \r\nQ 30.078125 56 35.796875 56 \r\nQ 45.21875 56 50.046875 50.171875 \r\nQ 54.890625 44.34375 54.890625 33.015625 \r\nz\r\n\" id=\"DejaVuSans-110\"/>\r\n      <path d=\"M 18.3125 70.21875 \r\nL 18.3125 54.6875 \r\nL 36.8125 54.6875 \r\nL 36.8125 47.703125 \r\nL 18.3125 47.703125 \r\nL 18.3125 18.015625 \r\nQ 18.3125 11.328125 20.140625 9.421875 \r\nQ 21.96875 7.515625 27.59375 7.515625 \r\nL 36.8125 7.515625 \r\nL 36.8125 0 \r\nL 27.59375 0 \r\nQ 17.1875 0 13.234375 3.875 \r\nQ 9.28125 7.765625 9.28125 18.015625 \r\nL 9.28125 47.703125 \r\nL 2.6875 47.703125 \r\nL 2.6875 54.6875 \r\nL 9.28125 54.6875 \r\nL 9.28125 70.21875 \r\nz\r\n\" id=\"DejaVuSans-116\"/>\r\n      <path d=\"M 44.28125 53.078125 \r\nL 44.28125 44.578125 \r\nQ 40.484375 46.53125 36.375 47.5 \r\nQ 32.28125 48.484375 27.875 48.484375 \r\nQ 21.1875 48.484375 17.84375 46.4375 \r\nQ 14.5 44.390625 14.5 40.28125 \r\nQ 14.5 37.15625 16.890625 35.375 \r\nQ 19.28125 33.59375 26.515625 31.984375 \r\nL 29.59375 31.296875 \r\nQ 39.15625 29.25 43.1875 25.515625 \r\nQ 47.21875 21.78125 47.21875 15.09375 \r\nQ 47.21875 7.46875 41.1875 3.015625 \r\nQ 35.15625 -1.421875 24.609375 -1.421875 \r\nQ 20.21875 -1.421875 15.453125 -0.5625 \r\nQ 10.6875 0.296875 5.421875 2 \r\nL 5.421875 11.28125 \r\nQ 10.40625 8.6875 15.234375 7.390625 \r\nQ 20.0625 6.109375 24.8125 6.109375 \r\nQ 31.15625 6.109375 34.5625 8.28125 \r\nQ 37.984375 10.453125 37.984375 14.40625 \r\nQ 37.984375 18.0625 35.515625 20.015625 \r\nQ 33.0625 21.96875 24.703125 23.78125 \r\nL 21.578125 24.515625 \r\nQ 13.234375 26.265625 9.515625 29.90625 \r\nQ 5.8125 33.546875 5.8125 39.890625 \r\nQ 5.8125 47.609375 11.28125 51.796875 \r\nQ 16.75 56 26.8125 56 \r\nQ 31.78125 56 36.171875 55.265625 \r\nQ 40.578125 54.546875 44.28125 53.078125 \r\nz\r\n\" id=\"DejaVuSans-115\"/>\r\n     </defs>\r\n     <g transform=\"translate(306.6125 26.968904)scale(0.1 -0.1)\">\r\n      <use xlink:href=\"#DejaVuSans-83\"/>\r\n      <use x=\"63.476562\" xlink:href=\"#DejaVuSans-69\"/>\r\n      <use x=\"126.660156\" xlink:href=\"#DejaVuSans-71\"/>\r\n      <use x=\"204.150391\" xlink:href=\"#DejaVuSans-95\"/>\r\n      <use x=\"254.150391\" xlink:href=\"#DejaVuSans-99\"/>\r\n      <use x=\"309.130859\" xlink:href=\"#DejaVuSans-111\"/>\r\n      <use x=\"370.3125\" xlink:href=\"#DejaVuSans-117\"/>\r\n      <use x=\"433.691406\" xlink:href=\"#DejaVuSans-110\"/>\r\n      <use x=\"497.070312\" xlink:href=\"#DejaVuSans-116\"/>\r\n      <use x=\"536.279297\" xlink:href=\"#DejaVuSans-115\"/>\r\n     </g>\r\n    </g>\r\n   </g>\r\n  </g>\r\n </g>\r\n <defs>\r\n  <clipPath id=\"pe275772fc9\">\r\n   <rect height=\"217.44\" width=\"334.8\" x=\"39.65\" y=\"10.370466\"/>\r\n  </clipPath>\r\n </defs>\r\n</svg>\r\n",
      "image/png": "[encoded data removed]"
     },
     "metadata": {
      "needs_background": "light"
     }
    }
   ],
   "source": [
    "d = train_label[\"SEG\"].value_counts().to_frame(\"SEG_counts\")\n",
    "d.plot(kind='bar')"
   ]
  },
  {
   "cell_type": "code",
   "execution_count": 25,
   "metadata": {},
   "outputs": [
    {
     "output_type": "execute_result",
     "data": {
      "text/plain": "(20000, 21)"
     },
     "metadata": {},
     "execution_count": 25
    }
   ],
   "source": [
    "from sklearn.preprocessing import OneHotEncoder\n",
    " \n",
    "train_label_encoded, train_label_categories = train_label[\"SEG\"].factorize()\n",
    "\n",
    "encoder = OneHotEncoder()\n",
    "encoded = encoder.fit_transform(train_label_encoded.reshape(-1, 1))\n",
    "encoded.toarray().shape"
   ]
  },
  {
   "cell_type": "code",
   "execution_count": 14,
   "metadata": {},
   "outputs": [],
   "source": [
    "import tensorflow as tf\n",
    "from tensorflow import keras\n",
    "\n",
    "def multivariate_data(dataset, target, start_index, end_index, history_size,\n",
    "                      target_size, step, single_step=False):\n",
    "    data = []\n",
    "    labels = []\n",
    "\n",
    "    start_index = start_index + history_size\n",
    "    if end_index is None:\n",
    "        end_index = len(dataset) - target_size\n",
    "\n",
    "    for i in range(start_index, end_index):\n",
    "        indices = range(i-history_size, i, step)\n",
    "        data.append(dataset[indices])\n",
    "\n",
    "    if single_step:\n",
    "        labels.append(target[i+target_size])\n",
    "    else:\n",
    "        labels.append(target[i:i+target_size])\n",
    "\n",
    "    return np.array(data), np.array(labels)\n",
    "\n",
    "TRAIN_SPLIT = 18000\n",
    "past_history = 10\n",
    "future_target = 10\n",
    "STEP = 1\n",
    "\n",
    "#x_train, y_train = multivariate_data(train_set.values, train_label.values, 0, TRAIN_SPLIT, past_history, future_target, STEP, single_step=True)\n",
    "#x_val, y_val = multivariate_data(train_set.values, train_label.values, TRAIN_SPLIT, None, past_history, future_target, STEP, single_step=True)"
   ]
  },
  {
   "cell_type": "code",
   "execution_count": 15,
   "metadata": {},
   "outputs": [
    {
     "output_type": "execute_result",
     "data": {
      "text/plain": "(array([[['93292771632']],\n \n        [['93293300344']],\n \n        [['93293373376']],\n \n        ...,\n \n        [['92901442004']],\n \n        [['92901442004']],\n \n        [['92901442004']]], dtype=object),\n array([[['-1']],\n \n        [['-1']],\n \n        [['-1']],\n \n        ...,\n \n        [['92901442004']],\n \n        [['92901442004']],\n \n        [['92901442004']]], dtype=object))"
     },
     "metadata": {},
     "execution_count": 15
    }
   ],
   "source": [
    "x_train = train_set[:TRAIN_SPLIT].values.reshape(-1, 1, 1)\n",
    "y_train = train_label[:TRAIN_SPLIT].values.reshape(-1, 1, 1)\n",
    "\n",
    "x_val = train_set[TRAIN_SPLIT:].values.reshape(-1, 1, 1)\n",
    "y_val = train_label[TRAIN_SPLIT:].values.reshape(-1, 1, 1)\n",
    "x_train, y_train"
   ]
  },
  {
   "cell_type": "code",
   "execution_count": 16,
   "metadata": {
    "tags": []
   },
   "outputs": [],
   "source": [
    "BUFFER_SIZE = 100000\n",
    "BATCH_SIZE = 256\n",
    "\n",
    "train_data = tf.data.Dataset.from_tensor_slices((x_train, y_train))\n",
    "train_data = train_data.cache().shuffle(BUFFER_SIZE).batch(BATCH_SIZE).repeat()\n",
    "\n",
    "val_data = tf.data.Dataset.from_tensor_slices((x_val, y_val))\n",
    "val_data = val_data.cache().batch(BATCH_SIZE).repeat()"
   ]
  },
  {
   "cell_type": "code",
   "execution_count": 17,
   "metadata": {
    "tags": []
   },
   "outputs": [
    {
     "output_type": "stream",
     "name": "stdout",
     "text": "(256, 1, 1)\n(256, 1, 1)\n(18000, 1, 1)\n"
    }
   ],
   "source": [
    "for x, y in train_data.take(1):\n",
    "    print(x.shape)\n",
    "    print(y.shape)\n",
    "print(x_train.shape)"
   ]
  },
  {
   "cell_type": "code",
   "execution_count": 18,
   "metadata": {},
   "outputs": [],
   "source": [
    "single_step_model = tf.keras.models.Sequential()\n",
    "single_step_model.add(tf.keras.layers.LSTM(32, input_shape=(256, 1)))\n",
    "single_step_model.add(tf.keras.layers.Dense(1))\n",
    "\n",
    "single_step_model.compile(optimizer=tf.keras.optimizers.RMSprop(), loss='categorical_crossentropy')"
   ]
  },
  {
   "cell_type": "code",
   "execution_count": 19,
   "metadata": {
    "tags": []
   },
   "outputs": [
    {
     "output_type": "execute_result",
     "data": {
      "text/plain": "'\\nEVALUATION_INTERVAL = 200\\nEPOCHS = 10\\n\\nsingle_step_history = single_step_model.fit(train_data, epochs=EPOCHS,\\n                                            steps_per_epoch=EVALUATION_INTERVAL,\\n                                            validation_data=val_data,\\n                                            validation_steps=50)\\n'"
     },
     "metadata": {},
     "execution_count": 19
    }
   ],
   "source": [
    "'''\n",
    "EVALUATION_INTERVAL = 200\n",
    "EPOCHS = 10\n",
    "\n",
    "single_step_history = single_step_model.fit(train_data, epochs=EPOCHS,\n",
    "                                            steps_per_epoch=EVALUATION_INTERVAL,\n",
    "                                            validation_data=val_data,\n",
    "                                            validation_steps=50)\n",
    "'''"
   ]
  },
  {
   "cell_type": "code",
   "execution_count": null,
   "metadata": {},
   "outputs": [],
   "source": []
  }
 ],
 "metadata": {
  "language_info": {
   "codemirror_mode": {
    "name": "ipython",
    "version": 3
   },
   "file_extension": ".py",
   "mimetype": "text/x-python",
   "name": "python",
   "nbconvert_exporter": "python",
   "pygments_lexer": "ipython3",
   "version": 3
  },
  "orig_nbformat": 2,
  "kernelspec": {
   "name": "python_defaultSpec_1593772858180",
   "display_name": "Python 3.7.6 64-bit ('base': conda)"
  }
 },
 "nbformat": 4,
 "nbformat_minor": 2
}