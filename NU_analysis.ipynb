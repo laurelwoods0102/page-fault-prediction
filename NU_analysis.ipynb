{
 "cells": [
  {
   "cell_type": "code",
   "execution_count": 1,
   "metadata": {},
   "outputs": [
    {
     "output_type": "execute_result",
     "data": {
      "text/plain": "                gpa\n0      105950216192\n1      105943924736\n2      105946021888\n3      105939873792\n4      105941845296\n...             ...\n63973  103568084992\n63974  103568404480\n63975  103563653120\n63976  103565225984\n63977  103560867840\n\n[63978 rows x 1 columns]",
      "text/html": "<div>\n<style scoped>\n    .dataframe tbody tr th:only-of-type {\n        vertical-align: middle;\n    }\n\n    .dataframe tbody tr th {\n        vertical-align: top;\n    }\n\n    .dataframe thead th {\n        text-align: right;\n    }\n</style>\n<table border=\"1\" class=\"dataframe\">\n  <thead>\n    <tr style=\"text-align: right;\">\n      <th></th>\n      <th>gpa</th>\n    </tr>\n  </thead>\n  <tbody>\n    <tr>\n      <th>0</th>\n      <td>105950216192</td>\n    </tr>\n    <tr>\n      <th>1</th>\n      <td>105943924736</td>\n    </tr>\n    <tr>\n      <th>2</th>\n      <td>105946021888</td>\n    </tr>\n    <tr>\n      <th>3</th>\n      <td>105939873792</td>\n    </tr>\n    <tr>\n      <th>4</th>\n      <td>105941845296</td>\n    </tr>\n    <tr>\n      <th>...</th>\n      <td>...</td>\n    </tr>\n    <tr>\n      <th>63973</th>\n      <td>103568084992</td>\n    </tr>\n    <tr>\n      <th>63974</th>\n      <td>103568404480</td>\n    </tr>\n    <tr>\n      <th>63975</th>\n      <td>103563653120</td>\n    </tr>\n    <tr>\n      <th>63976</th>\n      <td>103565225984</td>\n    </tr>\n    <tr>\n      <th>63977</th>\n      <td>103560867840</td>\n    </tr>\n  </tbody>\n</table>\n<p>63978 rows × 1 columns</p>\n</div>"
     },
     "metadata": {},
     "execution_count": 1
    }
   ],
   "source": [
    "import pandas as pd\n",
    "import numpy as np\n",
    "import matplotlib.pyplot as plt\n",
    "\n",
    "original = pd.read_csv(\"./로그 데이터/NU-MineBench.csv\")\n",
    "original"
   ]
  },
  {
   "cell_type": "code",
   "execution_count": 2,
   "metadata": {},
   "outputs": [
    {
     "output_type": "execute_result",
     "data": {
      "text/plain": "                gpa\n0      105950216192\n1      105943924736\n2      105946021888\n3      105939873792\n4      105941845296\n...             ...\n59995  103962836992\n59996  103962849280\n59997  103962861568\n59998  103962873856\n59999  103963033600\n\n[60000 rows x 1 columns]",
      "text/html": "<div>\n<style scoped>\n    .dataframe tbody tr th:only-of-type {\n        vertical-align: middle;\n    }\n\n    .dataframe tbody tr th {\n        vertical-align: top;\n    }\n\n    .dataframe thead th {\n        text-align: right;\n    }\n</style>\n<table border=\"1\" class=\"dataframe\">\n  <thead>\n    <tr style=\"text-align: right;\">\n      <th></th>\n      <th>gpa</th>\n    </tr>\n  </thead>\n  <tbody>\n    <tr>\n      <th>0</th>\n      <td>105950216192</td>\n    </tr>\n    <tr>\n      <th>1</th>\n      <td>105943924736</td>\n    </tr>\n    <tr>\n      <th>2</th>\n      <td>105946021888</td>\n    </tr>\n    <tr>\n      <th>3</th>\n      <td>105939873792</td>\n    </tr>\n    <tr>\n      <th>4</th>\n      <td>105941845296</td>\n    </tr>\n    <tr>\n      <th>...</th>\n      <td>...</td>\n    </tr>\n    <tr>\n      <th>59995</th>\n      <td>103962836992</td>\n    </tr>\n    <tr>\n      <th>59996</th>\n      <td>103962849280</td>\n    </tr>\n    <tr>\n      <th>59997</th>\n      <td>103962861568</td>\n    </tr>\n    <tr>\n      <th>59998</th>\n      <td>103962873856</td>\n    </tr>\n    <tr>\n      <th>59999</th>\n      <td>103963033600</td>\n    </tr>\n  </tbody>\n</table>\n<p>60000 rows × 1 columns</p>\n</div>"
     },
     "metadata": {},
     "execution_count": 2
    }
   ],
   "source": [
    "train_test_split_index = 60000\n",
    "\n",
    "data = original.copy()\n",
    "train_set = data[:train_test_split_index]\n",
    "test_set = data[train_test_split_index:]\n",
    "train_set"
   ]
  },
  {
   "cell_type": "code",
   "execution_count": 4,
   "metadata": {},
   "outputs": [
    {
     "output_type": "execute_result",
     "data": {
      "text/plain": "              gpa_counts\n103728635904           3\n103580106752           3\n104226586624           2\n104285302784           2\n104285745152           2\n...                  ...\n104176857088           1\n103615827968           1\n103976845312           1\n103804055552           1\n104226537472           1\n\n[58213 rows x 1 columns]",
      "text/html": "<div>\n<style scoped>\n    .dataframe tbody tr th:only-of-type {\n        vertical-align: middle;\n    }\n\n    .dataframe tbody tr th {\n        vertical-align: top;\n    }\n\n    .dataframe thead th {\n        text-align: right;\n    }\n</style>\n<table border=\"1\" class=\"dataframe\">\n  <thead>\n    <tr style=\"text-align: right;\">\n      <th></th>\n      <th>gpa_counts</th>\n    </tr>\n  </thead>\n  <tbody>\n    <tr>\n      <th>103728635904</th>\n      <td>3</td>\n    </tr>\n    <tr>\n      <th>103580106752</th>\n      <td>3</td>\n    </tr>\n    <tr>\n      <th>104226586624</th>\n      <td>2</td>\n    </tr>\n    <tr>\n      <th>104285302784</th>\n      <td>2</td>\n    </tr>\n    <tr>\n      <th>104285745152</th>\n      <td>2</td>\n    </tr>\n    <tr>\n      <th>...</th>\n      <td>...</td>\n    </tr>\n    <tr>\n      <th>104176857088</th>\n      <td>1</td>\n    </tr>\n    <tr>\n      <th>103615827968</th>\n      <td>1</td>\n    </tr>\n    <tr>\n      <th>103976845312</th>\n      <td>1</td>\n    </tr>\n    <tr>\n      <th>103804055552</th>\n      <td>1</td>\n    </tr>\n    <tr>\n      <th>104226537472</th>\n      <td>1</td>\n    </tr>\n  </tbody>\n</table>\n<p>58213 rows × 1 columns</p>\n</div>"
     },
     "metadata": {},
     "execution_count": 4
    }
   ],
   "source": [
    "data_counts = train_set[\"gpa\"].value_counts().to_frame(\"gpa_counts\")\n",
    "data_counts"
   ]
  },
  {
   "cell_type": "code",
   "execution_count": null,
   "metadata": {},
   "outputs": [],
   "source": []
  }
 ],
 "metadata": {
  "language_info": {
   "codemirror_mode": {
    "name": "ipython",
    "version": 3
   },
   "file_extension": ".py",
   "mimetype": "text/x-python",
   "name": "python",
   "nbconvert_exporter": "python",
   "pygments_lexer": "ipython3",
   "version": 3
  },
  "orig_nbformat": 2,
  "kernelspec": {
   "name": "python_defaultSpec_1593774726655",
   "display_name": "Python 3.7.6 64-bit ('base': conda)"
  }
 },
 "nbformat": 4,
 "nbformat_minor": 2
}